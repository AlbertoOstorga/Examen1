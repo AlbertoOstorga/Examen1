{
  "nbformat": 4,
  "nbformat_minor": 0,
  "metadata": {
    "colab": {
      "provenance": [],
      "authorship_tag": "ABX9TyPpIufOmVx/CnQKR+qkHXUU",
      "include_colab_link": true
    },
    "kernelspec": {
      "name": "python3",
      "display_name": "Python 3"
    },
    "language_info": {
      "name": "python"
    }
  },
  "cells": [
    {
      "cell_type": "markdown",
      "metadata": {
        "id": "view-in-github",
        "colab_type": "text"
      },
      "source": [
        "<a href=\"https://colab.research.google.com/github/AlbertoOstorga/Examen1/blob/main/Customers.ipynb\" target=\"_parent\"><img src=\"https://colab.research.google.com/assets/colab-badge.svg\" alt=\"Open In Colab\"/></a>"
      ]
    },
    {
      "cell_type": "markdown",
      "source": [
        "## **Consumer**"
      ],
      "metadata": {
        "id": "9HKLIol-94dw"
      }
    },
    {
      "cell_type": "code",
      "execution_count": 1,
      "metadata": {
        "id": "809jBGTMmgIK"
      },
      "outputs": [],
      "source": [
        "import pandas as pd\n",
        "import matplotlib.pyplot as plt\n",
        "import numpy as np\n",
        "import io"
      ]
    },
    {
      "cell_type": "code",
      "source": [
        "from google.colab import files\n",
        "files.upload()"
      ],
      "metadata": {
        "id": "UUwxkyjMm2UO"
      },
      "execution_count": null,
      "outputs": []
    },
    {
      "cell_type": "code",
      "source": [
        "data = pd.read_excel('consumer_mit_lift_lab.xlsx')\n",
        "data"
      ],
      "metadata": {
        "id": "578JaPBZo1vn"
      },
      "execution_count": null,
      "outputs": []
    },
    {
      "cell_type": "code",
      "source": [
        "data.info()"
      ],
      "metadata": {
        "id": "2_c3z5TK9ndw"
      },
      "execution_count": null,
      "outputs": []
    },
    {
      "cell_type": "code",
      "source": [
        "valores_nulos = data.isnull().sum()\n",
        "valores_nulos"
      ],
      "metadata": {
        "id": "8z4ecfGX8dwo"
      },
      "execution_count": null,
      "outputs": []
    },
    {
      "cell_type": "markdown",
      "source": [
        " **Eliminar valores nulos de la base de datos**"
      ],
      "metadata": {
        "id": "vwyeDkIy9wj6"
      }
    },
    {
      "cell_type": "code",
      "source": [
        "#Eliminar valos nulos de la columna '300_did_not_find' el cuál es categórico\n",
        "#Cuarto método de sustitución de valores nulos visto en clasee\n",
        "#Sustituir valores nulos por un string en concreto\n",
        "#Esto se debe a que si sustituimos por algún valor inventado que no sea 'Encontró todo' alteraría la información obtenida\n",
        "data[\"300_did_not_find\"] = data[\"300_did_not_find\"].fillna(\"Encontró todo\")"
      ],
      "metadata": {
        "id": "-Ynz1IME92r-"
      },
      "execution_count": 6,
      "outputs": []
    },
    {
      "cell_type": "code",
      "source": [
        "#Comprobamos valores nulos\n",
        "valores_nulos = data.isnull().sum()\n",
        "valores_nulos"
      ],
      "metadata": {
        "id": "XX_s7gMi_lyt"
      },
      "execution_count": null,
      "outputs": []
    },
    {
      "cell_type": "code",
      "source": [
        "#Eliminar valos nulos de la columna '284_additional_products_store' el cuál es categórico\n",
        "#Cuarto método de sustitución de valores nulos visto en clasee\n",
        "#Sustituir valores nulos por un string en concreto\n",
        "#Al igual que en el caso anterior se sustituirá la información faltante con \"No desea nada más\" para no alterar la información\n",
        "data[\"284_additional_products_store\"] = data[\"284_additional_products_store\"].fillna(\"No desea nada más\")"
      ],
      "metadata": {
        "id": "VdCx4WmTAuJa"
      },
      "execution_count": 8,
      "outputs": []
    },
    {
      "cell_type": "code",
      "source": [
        "#Comprobamos valores nulos\n",
        "valores_nulos = data.isnull().sum()\n",
        "valores_nulos"
      ],
      "metadata": {
        "id": "LUmWhVY4BDED"
      },
      "execution_count": null,
      "outputs": []
    },
    {
      "cell_type": "code",
      "source": [
        "#Quinto método de sustitución\n",
        "#Sustituir valores nulos por valores no nulos hacia adelante \"foward fill\" (\"ffill\")\n",
        "#Filtro por columna\n",
        "#Usamos foward fill porque los datos faltantes son pocos, y al ser categóricos, usar foward fill no afectará en gran medida a los resultados.\n",
        "data[\"305_electricity_bill_store\"] = data[\"305_electricity_bill_store\"].fillna(method=\"ffill\")"
      ],
      "metadata": {
        "id": "LGiv_nuPDcgo"
      },
      "execution_count": 10,
      "outputs": []
    },
    {
      "cell_type": "code",
      "source": [
        "#Comprobamos valores nulos\n",
        "valores_nulos = data.isnull().sum()\n",
        "valores_nulos"
      ],
      "metadata": {
        "id": "TuGueS2HEJoP"
      },
      "execution_count": null,
      "outputs": []
    },
    {
      "cell_type": "code",
      "source": [
        "#Sexto método de sustitución\n",
        "#Sustituir valores nulos por valores no nulos hacia atrás \"backward fill\" (\"bfill\")\n",
        "#Filtro por columna\n",
        "#Usamos backward fill porque los datos faltantes son pocos, y al ser categóricos, usar backward fill no afectará en gran medida a los resultados.\n",
        "data[\"306_water_bill_store\"] = data[\"306_water_bill_store\"].fillna(method=\"bfill\")"
      ],
      "metadata": {
        "id": "6CP9Z10Jci6U"
      },
      "execution_count": 12,
      "outputs": []
    },
    {
      "cell_type": "code",
      "source": [
        "#Comprobamos valores nulos\n",
        "valores_nulos = data.isnull().sum()\n",
        "valores_nulos"
      ],
      "metadata": {
        "id": "8_PimikhFF_X"
      },
      "execution_count": null,
      "outputs": []
    },
    {
      "cell_type": "code",
      "source": [
        "#Sexto método de sustitución\n",
        "#Sustituir valores nulos por valores no nulos hacia atrás \"backward fill\" (\"bfill\")\n",
        "#Filtro por columna\n",
        "#Usamos backward fill porque los datos faltantes son pocos, y al ser categóricos, usar backward fill no afectará en gran medida a los resultados.\n",
        "data[\"307_gas_bill_store\"] = data[\"307_gas_bill_store\"].fillna(method=\"bfill\")"
      ],
      "metadata": {
        "id": "8i4Tv5hjIbmo"
      },
      "execution_count": 14,
      "outputs": []
    },
    {
      "cell_type": "code",
      "source": [
        "#Comprobamos valores nulos\n",
        "valores_nulos = data.isnull().sum()\n",
        "valores_nulos"
      ],
      "metadata": {
        "id": "peB-H8uoIqwr"
      },
      "execution_count": null,
      "outputs": []
    },
    {
      "cell_type": "code",
      "source": [
        "#Quinto método de sustitución\n",
        "#Sustituir valores nulos por valores no nulos hacia adelante \"foward fill\" (\"ffill\")\n",
        "#Filtro por columna\n",
        "#Usamos foward fill porque los datos faltantes son pocos, y al ser categóricos, usar foward fill no afectará en gran medida a los resultados.\n",
        "data[\"308_topups_in_store\"] = data[\"308_topups_in_store\"].fillna(method=\"ffill\")"
      ],
      "metadata": {
        "id": "GebNyMYgJAAU"
      },
      "execution_count": 16,
      "outputs": []
    },
    {
      "cell_type": "code",
      "source": [
        "#Comprobamos valores nulos\n",
        "valores_nulos = data.isnull().sum()\n",
        "valores_nulos"
      ],
      "metadata": {
        "id": "pHxdadXwJIoM"
      },
      "execution_count": null,
      "outputs": []
    },
    {
      "cell_type": "code",
      "source": [
        "#Quinto método de sustitución\n",
        "#Sustituir valores nulos por valores no nulos hacia adelante \"foward fill\" (\"ffill\")\n",
        "#Filtro por columna\n",
        "#Usamos foward fill porque los datos faltantes son pocos, y al ser categóricos, usar foward fill no afectará en gran medida a los resultados.\n",
        "data[\"309_wiretransfers_in_store\"] = data[\"309_wiretransfers_in_store\"].fillna(method=\"ffill\")"
      ],
      "metadata": {
        "id": "C752_WIGJaPI"
      },
      "execution_count": 18,
      "outputs": []
    },
    {
      "cell_type": "code",
      "source": [
        "#Comprobamos valores nulos\n",
        "valores_nulos = data.isnull().sum()\n",
        "valores_nulos"
      ],
      "metadata": {
        "id": "F6lDbDYiJfqz"
      },
      "execution_count": null,
      "outputs": []
    },
    {
      "cell_type": "code",
      "source": [
        "#Eliminar valos nulos de la columna '284_additional_products_store' el cuál es categórico\n",
        "#Cuarto método de sustitución de valores nulos visto en clasee\n",
        "#Sustituir valores nulos por un string en concreto\n",
        "#La información faltante se cambiará por \"No desea otro servicio\" para no alterar la información\n",
        "data[\"304_additional_services_store\"] = data[\"304_additional_services_store\"].fillna(\"No desea otro servicio\")"
      ],
      "metadata": {
        "id": "bMKbZbMiKMHp"
      },
      "execution_count": 20,
      "outputs": []
    },
    {
      "cell_type": "code",
      "source": [
        "#Comprobamos valores nulos\n",
        "valores_nulos = data.isnull().sum()\n",
        "valores_nulos"
      ],
      "metadata": {
        "id": "4QmiXZ9MKWCd"
      },
      "execution_count": null,
      "outputs": []
    },
    {
      "cell_type": "code",
      "source": [
        "#Eliminar valos nulos de la columna '284_additional_products_store' el cuál es categórico\n",
        "#Cuarto método de sustitución de valores nulos visto en clasee\n",
        "#Sustituir valores nulos por un string en concreto\n",
        "#Al igual que en el caso anterior se sustituirá la información faltante con 'No photo'\n",
        "data[\"storefront_picture_just_once_if_possible\"] = data[\"storefront_picture_just_once_if_possible\"].fillna(\"No photo\")"
      ],
      "metadata": {
        "id": "rMD27GqBKn7t"
      },
      "execution_count": 22,
      "outputs": []
    },
    {
      "cell_type": "code",
      "source": [
        "#Comprobamos valores nulos\n",
        "valores_nulos = data.isnull().sum()\n",
        "valores_nulos\n",
        "#El dataframe se encuentra libre de valores nulos"
      ],
      "metadata": {
        "id": "1LUSBzzbLHwB"
      },
      "execution_count": null,
      "outputs": []
    },
    {
      "cell_type": "markdown",
      "source": [
        "**Identificación y eliminación de outliers**"
      ],
      "metadata": {
        "id": "gKTHKPrgLPDn"
      }
    },
    {
      "cell_type": "code",
      "source": [
        "#Método aplicación Cuartiles, Encuentro cuartiles 0.25 y 0.75\n",
        "y = data\n",
        "\n",
        "percentile25 = y.quantile(0.25) #Q1\n",
        "percentile75 = y.quantile(0.75) #Q3\n",
        "iqr = percentile75 - percentile25\n",
        "\n",
        "Limite_Superior_iqr= percentile75 + 1.5*iqr\n",
        "Limite_Inferior_iqr= percentile25 - 1.5*iqr\n",
        "print('Limite superior permitido', Limite_Superior_iqr)\n",
        "print('Limite inferior permitido', Limite_Inferior_iqr)"
      ],
      "metadata": {
        "id": "9GFVs-5xLUKB"
      },
      "execution_count": null,
      "outputs": []
    },
    {
      "cell_type": "code",
      "source": [
        "outliers_iqr = data[(y>Limite_Superior_iqr)|(y<Limite_Inferior_iqr)]\n",
        "outliers_iqr"
      ],
      "metadata": {
        "id": "-wmNjIxONfEU"
      },
      "execution_count": null,
      "outputs": []
    },
    {
      "cell_type": "code",
      "source": [
        "data2_iqr= data[(y<=Limite_Superior_iqr)&(y>=Limite_Inferior_iqr)]\n",
        "data2_iqr"
      ],
      "metadata": {
        "id": "6A7WyIg0Np5X"
      },
      "execution_count": null,
      "outputs": []
    },
    {
      "cell_type": "code",
      "source": [
        "#Eliminamos la columna innecesaria\n",
        "data3_iqr = data2_iqr.drop(['_record_id','_title','_server_updated_at','_updated_by','_geometry','282_payment_method_that_purchase','283_fulfill_needs','300_did_not_find','237_distance_household_interviewee','299_means_transportation_consumer','284_additional_products_store','301_electricity_bill','305_electricity_bill_store','302_water_bill','306_water_bill_store','303_gas_bill','307_gas_bill_store','286_topups','308_topups_in_store','287_wire_transfers','309_wiretransfers_in_store','320_other_services_in_store','304_additional_services_store','240_gender_interviewee','indicate_the_type_of_store','name_of_the_store','storefront_picture_just_once_if_possible'], axis = 1)\n",
        "data3_iqr"
      ],
      "metadata": {
        "id": "MfBv-fivNzuU"
      },
      "execution_count": null,
      "outputs": []
    },
    {
      "cell_type": "code",
      "source": [
        "#Reemplazar valores atípicos (nulos) del dataframe con \"mean\"\n",
        "data4_iqr = data3_iqr.copy()\n",
        "data4_iqr = data4_iqr.fillna(round(data4_iqr.mean(),1))\n",
        "data4_iqr"
      ],
      "metadata": {
        "id": "-N1OSTxmPscz"
      },
      "execution_count": null,
      "outputs": []
    },
    {
      "cell_type": "code",
      "source": [
        "#Unimos la columna 'indice_tiempo' con el dataframe\n",
        "Nonumerico=data[['_record_id','_title', '_server_updated_at', '_updated_by','_geometry', '282_payment_method_that_purchase', '283_fulfill_needs', '237_distance_household_interviewee', '299_means_transportation_consumer', '301_electricity_bill', '305_electricity_bill_store', '302_water_bill', '306_water_bill_store', '303_gas_bill', '307_gas_bill_store', '286_topups', '308_topups_in_store', '287_wire_transfers','309_wiretransfers_in_store', '320_other_services_in_store', '240_gender_interviewee', 'indicate_the_type_of_store', 'name_of_the_store', 'storefront_picture_just_once_if_possible']]\n",
        "Datos_limpios=pd.concat([Nonumerico, data4_iqr], axis=1)\n",
        "Datos_limpios"
      ],
      "metadata": {
        "id": "kjskX5OeQAoY"
      },
      "execution_count": null,
      "outputs": []
    },
    {
      "cell_type": "code",
      "source": [
        "valores_nulos=Datos_limpios.isnull().sum()\n",
        "valores_nulos"
      ],
      "metadata": {
        "id": "fym1huSWYFh1"
      },
      "execution_count": null,
      "outputs": []
    },
    {
      "cell_type": "code",
      "source": [
        "Datos_limpios.to_csv('Datos_limpios_consumidor_examen.csv')\n",
        "from google.colab import files\n",
        "files.download('Datos_limpios_consumidor_examen.csv')"
      ],
      "metadata": {
        "colab": {
          "base_uri": "https://localhost:8080/",
          "height": 17
        },
        "id": "lvJQQ9rfYNwH",
        "outputId": "dd4ce758-bb52-4d23-f634-d1a3b2bda84e"
      },
      "execution_count": null,
      "outputs": [
        {
          "output_type": "display_data",
          "data": {
            "text/plain": [
              "<IPython.core.display.Javascript object>"
            ],
            "application/javascript": [
              "\n",
              "    async function download(id, filename, size) {\n",
              "      if (!google.colab.kernel.accessAllowed) {\n",
              "        return;\n",
              "      }\n",
              "      const div = document.createElement('div');\n",
              "      const label = document.createElement('label');\n",
              "      label.textContent = `Downloading \"${filename}\": `;\n",
              "      div.appendChild(label);\n",
              "      const progress = document.createElement('progress');\n",
              "      progress.max = size;\n",
              "      div.appendChild(progress);\n",
              "      document.body.appendChild(div);\n",
              "\n",
              "      const buffers = [];\n",
              "      let downloaded = 0;\n",
              "\n",
              "      const channel = await google.colab.kernel.comms.open(id);\n",
              "      // Send a message to notify the kernel that we're ready.\n",
              "      channel.send({})\n",
              "\n",
              "      for await (const message of channel.messages) {\n",
              "        // Send a message to notify the kernel that we're ready.\n",
              "        channel.send({})\n",
              "        if (message.buffers) {\n",
              "          for (const buffer of message.buffers) {\n",
              "            buffers.push(buffer);\n",
              "            downloaded += buffer.byteLength;\n",
              "            progress.value = downloaded;\n",
              "          }\n",
              "        }\n",
              "      }\n",
              "      const blob = new Blob(buffers, {type: 'application/binary'});\n",
              "      const a = document.createElement('a');\n",
              "      a.href = window.URL.createObjectURL(blob);\n",
              "      a.download = filename;\n",
              "      div.appendChild(a);\n",
              "      a.click();\n",
              "      div.remove();\n",
              "    }\n",
              "  "
            ]
          },
          "metadata": {}
        },
        {
          "output_type": "display_data",
          "data": {
            "text/plain": [
              "<IPython.core.display.Javascript object>"
            ],
            "application/javascript": [
              "download(\"download_143ef897-94ce-42ba-b658-07e788fd207f\", \"Datos_limpios_consumidor_examen.csv\", 56296)"
            ]
          },
          "metadata": {}
        }
      ]
    }
  ]
}