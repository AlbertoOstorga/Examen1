{
  "nbformat": 4,
  "nbformat_minor": 0,
  "metadata": {
    "colab": {
      "provenance": [],
      "authorship_tag": "ABX9TyNKcimlF5VOkD/xTcqymn7D",
      "include_colab_link": true
    },
    "kernelspec": {
      "name": "python3",
      "display_name": "Python 3"
    },
    "language_info": {
      "name": "python"
    }
  },
  "cells": [
    {
      "cell_type": "markdown",
      "metadata": {
        "id": "view-in-github",
        "colab_type": "text"
      },
      "source": [
        "<a href=\"https://colab.research.google.com/github/AlbertoOstorga/Examen1/blob/main/Examen.ipynb\" target=\"_parent\"><img src=\"https://colab.research.google.com/assets/colab-badge.svg\" alt=\"Open In Colab\"/></a>"
      ]
    },
    {
      "cell_type": "markdown",
      "source": [
        "## **Consumer**"
      ],
      "metadata": {
        "id": "9HKLIol-94dw"
      }
    },
    {
      "cell_type": "code",
      "execution_count": 1,
      "metadata": {
        "id": "809jBGTMmgIK"
      },
      "outputs": [],
      "source": [
        "import pandas as pd\n",
        "import matplotlib.pyplot as plt\n",
        "import numpy as np\n",
        "import io"
      ]
    },
    {
      "cell_type": "code",
      "source": [
        "from google.colab import files\n",
        "files.upload()"
      ],
      "metadata": {
        "id": "UUwxkyjMm2UO"
      },
      "execution_count": null,
      "outputs": []
    },
    {
      "cell_type": "code",
      "source": [
        "data = pd.read_excel('consumer_mit_lift_lab.xlsx')\n",
        "data"
      ],
      "metadata": {
        "id": "578JaPBZo1vn"
      },
      "execution_count": null,
      "outputs": []
    },
    {
      "cell_type": "code",
      "source": [
        "data.info()"
      ],
      "metadata": {
        "id": "2_c3z5TK9ndw"
      },
      "execution_count": null,
      "outputs": []
    },
    {
      "cell_type": "code",
      "source": [
        "valores_nulos = data.isnull().sum()\n",
        "valores_nulos"
      ],
      "metadata": {
        "id": "8z4ecfGX8dwo"
      },
      "execution_count": null,
      "outputs": []
    },
    {
      "cell_type": "markdown",
      "source": [
        " **Eliminar valores nulos de la base de datos**"
      ],
      "metadata": {
        "id": "vwyeDkIy9wj6"
      }
    },
    {
      "cell_type": "code",
      "source": [
        "#Eliminar valos nulos de la columna '300_did_not_find' el cuál es categórico\n",
        "#Cuarto método de sustitución de valores nulos visto en clasee\n",
        "#Sustituir valores nulos por un string en concreto\n",
        "#Esto se debe a que si sustituimos por algún valor inventado que no sea 'Encontró todo' alteraría la información obtenida\n",
        "data[\"300_did_not_find\"] = data[\"300_did_not_find\"].fillna(\"Encontró todo\")"
      ],
      "metadata": {
        "id": "-Ynz1IME92r-"
      },
      "execution_count": 16,
      "outputs": []
    },
    {
      "cell_type": "code",
      "source": [
        "#Comprobamos valores nulos\n",
        "valores_nulos = data.isnull().sum()\n",
        "valores_nulos"
      ],
      "metadata": {
        "id": "XX_s7gMi_lyt"
      },
      "execution_count": null,
      "outputs": []
    },
    {
      "cell_type": "code",
      "source": [
        "#Eliminar valos nulos de la columna '284_additional_products_store' el cuál es categórico\n",
        "#Cuarto método de sustitución de valores nulos visto en clasee\n",
        "#Sustituir valores nulos por un string en concreto\n",
        "#Al igual que en el caso anterior se sustituirá la información faltante con \"No desea nada más\" para no alterar la información\n",
        "data[\"284_additional_products_store\"] = data[\"284_additional_products_store\"].fillna(\"No desea nada más\")"
      ],
      "metadata": {
        "id": "VdCx4WmTAuJa"
      },
      "execution_count": 19,
      "outputs": []
    },
    {
      "cell_type": "code",
      "source": [
        "#Comprobamos valores nulos\n",
        "valores_nulos = data.isnull().sum()\n",
        "valores_nulos"
      ],
      "metadata": {
        "id": "LUmWhVY4BDED"
      },
      "execution_count": null,
      "outputs": []
    },
    {
      "cell_type": "code",
      "source": [
        "#Quinto método de sustitución\n",
        "#Sustituir valores nulos por valores no nulos hacia adelante \"foward fill\" (\"ffill\")\n",
        "#Filtro por columna\n",
        "#Usamos foward fill porque los datos faltantes son pocos, y al ser categóricos, usar foward fill no afectará en gran medida a los resultados.\n",
        "data[\"305_electricity_bill_store\"] = data[\"305_electricity_bill_store\"].fillna(method=\"ffill\")"
      ],
      "metadata": {
        "id": "LGiv_nuPDcgo"
      },
      "execution_count": 22,
      "outputs": []
    },
    {
      "cell_type": "code",
      "source": [
        "#Comprobamos valores nulos\n",
        "valores_nulos = data.isnull().sum()\n",
        "valores_nulos"
      ],
      "metadata": {
        "id": "TuGueS2HEJoP"
      },
      "execution_count": null,
      "outputs": []
    },
    {
      "cell_type": "code",
      "source": [
        "#Sexto método de sustitución\n",
        "#Sustituir valores nulos por valores no nulos hacia atrás \"backward fill\" (\"bfill\")\n",
        "#Filtro por columna\n",
        "#Usamos backward fill porque los datos faltantes son pocos, y al ser categóricos, usar backward fill no afectará en gran medida a los resultados.\n",
        "data[\"306_water_bill_store\"] = data[\"306_water_bill_store\"].fillna(method=\"bfill\")"
      ],
      "metadata": {
        "id": "6CP9Z10Jci6U"
      },
      "execution_count": 24,
      "outputs": []
    },
    {
      "cell_type": "code",
      "source": [
        "#Comprobamos valores nulos\n",
        "valores_nulos = data.isnull().sum()\n",
        "valores_nulos"
      ],
      "metadata": {
        "id": "8_PimikhFF_X"
      },
      "execution_count": null,
      "outputs": []
    },
    {
      "cell_type": "code",
      "source": [
        "#Sexto método de sustitución\n",
        "#Sustituir valores nulos por valores no nulos hacia atrás \"backward fill\" (\"bfill\")\n",
        "#Filtro por columna\n",
        "#Usamos backward fill porque los datos faltantes son pocos, y al ser categóricos, usar backward fill no afectará en gran medida a los resultados.\n",
        "data[\"307_gas_bill_store\"] = data[\"307_gas_bill_store\"].fillna(method=\"bfill\")"
      ],
      "metadata": {
        "id": "8i4Tv5hjIbmo"
      },
      "execution_count": 26,
      "outputs": []
    },
    {
      "cell_type": "code",
      "source": [
        "#Comprobamos valores nulos\n",
        "valores_nulos = data.isnull().sum()\n",
        "valores_nulos"
      ],
      "metadata": {
        "id": "peB-H8uoIqwr"
      },
      "execution_count": null,
      "outputs": []
    },
    {
      "cell_type": "code",
      "source": [
        "#Quinto método de sustitución\n",
        "#Sustituir valores nulos por valores no nulos hacia adelante \"foward fill\" (\"ffill\")\n",
        "#Filtro por columna\n",
        "#Usamos foward fill porque los datos faltantes son pocos, y al ser categóricos, usar foward fill no afectará en gran medida a los resultados.\n",
        "data[\"308_topups_in_store\"] = data[\"308_topups_in_store\"].fillna(method=\"ffill\")"
      ],
      "metadata": {
        "id": "GebNyMYgJAAU"
      },
      "execution_count": 28,
      "outputs": []
    },
    {
      "cell_type": "code",
      "source": [
        "#Comprobamos valores nulos\n",
        "valores_nulos = data.isnull().sum()\n",
        "valores_nulos"
      ],
      "metadata": {
        "id": "pHxdadXwJIoM"
      },
      "execution_count": null,
      "outputs": []
    },
    {
      "cell_type": "code",
      "source": [
        "#Quinto método de sustitución\n",
        "#Sustituir valores nulos por valores no nulos hacia adelante \"foward fill\" (\"ffill\")\n",
        "#Filtro por columna\n",
        "#Usamos foward fill porque los datos faltantes son pocos, y al ser categóricos, usar foward fill no afectará en gran medida a los resultados.\n",
        "data[\"309_wiretransfers_in_store\"] = data[\"309_wiretransfers_in_store\"].fillna(method=\"ffill\")"
      ],
      "metadata": {
        "id": "C752_WIGJaPI"
      },
      "execution_count": 30,
      "outputs": []
    },
    {
      "cell_type": "code",
      "source": [
        "#Comprobamos valores nulos\n",
        "valores_nulos = data.isnull().sum()\n",
        "valores_nulos"
      ],
      "metadata": {
        "id": "F6lDbDYiJfqz"
      },
      "execution_count": null,
      "outputs": []
    },
    {
      "cell_type": "code",
      "source": [
        "#Eliminar valos nulos de la columna '284_additional_products_store' el cuál es categórico\n",
        "#Cuarto método de sustitución de valores nulos visto en clasee\n",
        "#Sustituir valores nulos por un string en concreto\n",
        "#La información faltante se cambiará por \"No desea otro servicio\" para no alterar la información\n",
        "data[\"304_additional_services_store\"] = data[\"304_additional_services_store\"].fillna(\"No desea otro servicio\")"
      ],
      "metadata": {
        "id": "bMKbZbMiKMHp"
      },
      "execution_count": 36,
      "outputs": []
    },
    {
      "cell_type": "code",
      "source": [
        "#Comprobamos valores nulos\n",
        "valores_nulos = data.isnull().sum()\n",
        "valores_nulos"
      ],
      "metadata": {
        "id": "4QmiXZ9MKWCd"
      },
      "execution_count": null,
      "outputs": []
    },
    {
      "cell_type": "code",
      "source": [
        "#Eliminar valos nulos de la columna '284_additional_products_store' el cuál es categórico\n",
        "#Cuarto método de sustitución de valores nulos visto en clasee\n",
        "#Sustituir valores nulos por un string en concreto\n",
        "#Al igual que en el caso anterior se sustituirá la información faltante con 'No photo'\n",
        "data[\"storefront_picture_just_once_if_possible\"] = data[\"storefront_picture_just_once_if_possible\"].fillna(\"No photo\")"
      ],
      "metadata": {
        "id": "rMD27GqBKn7t"
      },
      "execution_count": 38,
      "outputs": []
    },
    {
      "cell_type": "code",
      "source": [
        "#Comprobamos valores nulos\n",
        "valores_nulos = data.isnull().sum()\n",
        "valores_nulos\n",
        "#El dataframe se encuentra libre de valores nulos"
      ],
      "metadata": {
        "id": "1LUSBzzbLHwB"
      },
      "execution_count": null,
      "outputs": []
    },
    {
      "cell_type": "markdown",
      "source": [
        "**Identificación y eliminación de outliers**"
      ],
      "metadata": {
        "id": "gKTHKPrgLPDn"
      }
    },
    {
      "cell_type": "code",
      "source": [
        "#Método aplicación Cuartiles, Encuentro cuartiles 0.25 y 0.75\n",
        "y = data\n",
        "\n",
        "percentile25 = y.quantile(0.25) #Q1\n",
        "percentile75 = y.quantile(0.75) #Q3\n",
        "iqr = percentile75 - percentile25\n",
        "\n",
        "Limite_Superior_iqr= percentile75 + 1.5*iqr\n",
        "Limite_Inferior_iqr= percentile25 - 1.5*iqr\n",
        "print('Limite superior permitido', Limite_Superior_iqr)\n",
        "print('Limite inferior permitido', Limite_Inferior_iqr)"
      ],
      "metadata": {
        "id": "9GFVs-5xLUKB"
      },
      "execution_count": null,
      "outputs": []
    },
    {
      "cell_type": "code",
      "source": [
        "outliers_iqr = data[(y>Limite_Superior_iqr)|(y<Limite_Inferior_iqr)]\n",
        "outliers_iqr"
      ],
      "metadata": {
        "id": "-wmNjIxONfEU"
      },
      "execution_count": null,
      "outputs": []
    },
    {
      "cell_type": "code",
      "source": [
        "data2_iqr= data[(y<=Limite_Superior_iqr)&(y>=Limite_Inferior_iqr)]\n",
        "data2_iqr"
      ],
      "metadata": {
        "id": "6A7WyIg0Np5X"
      },
      "execution_count": null,
      "outputs": []
    },
    {
      "cell_type": "code",
      "source": [
        "#Eliminamos la columna innecesaria\n",
        "data3_iqr = data2_iqr.drop(['_record_id','_title','_server_updated_at','_updated_by','_geometry','282_payment_method_that_purchase','283_fulfill_needs','300_did_not_find','237_distance_household_interviewee','299_means_transportation_consumer','284_additional_products_store','301_electricity_bill','305_electricity_bill_store','302_water_bill','306_water_bill_store','303_gas_bill','307_gas_bill_store','286_topups','308_topups_in_store','287_wire_transfers','309_wiretransfers_in_store','320_other_services_in_store','304_additional_services_store','240_gender_interviewee','indicate_the_type_of_store','name_of_the_store','storefront_picture_just_once_if_possible'], axis = 1)\n",
        "data3_iqr"
      ],
      "metadata": {
        "colab": {
          "base_uri": "https://localhost:8080/",
          "height": 488
        },
        "id": "MfBv-fivNzuU",
        "outputId": "adf6829b-716d-4a99-fac2-a9fe8bcb68e8"
      },
      "execution_count": 56,
      "outputs": [
        {
          "output_type": "execute_result",
          "data": {
            "text/plain": [
              "     _latitude  _longitude  238_frequency_buying_store  \\\n",
              "0    19.059841  -98.234980                         1.0   \n",
              "1    19.058479  -98.233566                         1.0   \n",
              "2    19.062077  -98.230339                         1.0   \n",
              "3    19.055535  -98.232916                         1.0   \n",
              "4    19.059012  -98.232994                         1.0   \n",
              "..         ...         ...                         ...   \n",
              "110  19.035224  -98.267100                         1.0   \n",
              "111  19.035280  -98.267856                         1.0   \n",
              "112  19.035451  -98.267862                         1.0   \n",
              "113  19.035486  -98.267831                         1.0   \n",
              "114  19.035399  -98.267924                         1.0   \n",
              "\n",
              "     81_number_online_purchases_month  288_number_app_purchases_month  \\\n",
              "0                                 1.0                             0.0   \n",
              "1                                 1.0                             2.0   \n",
              "2                                 0.0                             0.0   \n",
              "3                                 2.0                             3.0   \n",
              "4                                 2.0                             5.0   \n",
              "..                                ...                             ...   \n",
              "110                               NaN                            10.0   \n",
              "111                               1.0                             1.0   \n",
              "112                               3.0                             2.0   \n",
              "113                               2.0                             4.0   \n",
              "114                               0.0                             3.0   \n",
              "\n",
              "     289_number_whatsapp_purchases_month  83_willingness_ultrafast_delivery  \\\n",
              "0                                    0.0                                0.0   \n",
              "1                                    0.0                               35.0   \n",
              "2                                    0.0                               40.0   \n",
              "3                                    0.0                                0.0   \n",
              "4                                    0.0                                0.0   \n",
              "..                                   ...                                ...   \n",
              "110                                  0.0                              100.0   \n",
              "111                                  0.0                               50.0   \n",
              "112                                  0.0                                0.0   \n",
              "113                                  0.0                               30.0   \n",
              "114                                  0.0                                NaN   \n",
              "\n",
              "     84_willingness_sameday_delivery  241_age_of_the_interviewee  \n",
              "0                                0.0                        35.0  \n",
              "1                               50.0                        27.0  \n",
              "2                               25.0                        42.0  \n",
              "3                                0.0                        27.0  \n",
              "4                               50.0                        35.0  \n",
              "..                               ...                         ...  \n",
              "110                            100.0                        15.0  \n",
              "111                             70.0                        21.0  \n",
              "112                              0.0                        18.0  \n",
              "113                            100.0                        18.0  \n",
              "114                              NaN                        18.0  \n",
              "\n",
              "[115 rows x 9 columns]"
            ],
            "text/html": [
              "\n",
              "  <div id=\"df-aa8a195d-2fa7-4c1b-b95b-4c25ee411aa5\">\n",
              "    <div class=\"colab-df-container\">\n",
              "      <div>\n",
              "<style scoped>\n",
              "    .dataframe tbody tr th:only-of-type {\n",
              "        vertical-align: middle;\n",
              "    }\n",
              "\n",
              "    .dataframe tbody tr th {\n",
              "        vertical-align: top;\n",
              "    }\n",
              "\n",
              "    .dataframe thead th {\n",
              "        text-align: right;\n",
              "    }\n",
              "</style>\n",
              "<table border=\"1\" class=\"dataframe\">\n",
              "  <thead>\n",
              "    <tr style=\"text-align: right;\">\n",
              "      <th></th>\n",
              "      <th>_latitude</th>\n",
              "      <th>_longitude</th>\n",
              "      <th>238_frequency_buying_store</th>\n",
              "      <th>81_number_online_purchases_month</th>\n",
              "      <th>288_number_app_purchases_month</th>\n",
              "      <th>289_number_whatsapp_purchases_month</th>\n",
              "      <th>83_willingness_ultrafast_delivery</th>\n",
              "      <th>84_willingness_sameday_delivery</th>\n",
              "      <th>241_age_of_the_interviewee</th>\n",
              "    </tr>\n",
              "  </thead>\n",
              "  <tbody>\n",
              "    <tr>\n",
              "      <th>0</th>\n",
              "      <td>19.059841</td>\n",
              "      <td>-98.234980</td>\n",
              "      <td>1.0</td>\n",
              "      <td>1.0</td>\n",
              "      <td>0.0</td>\n",
              "      <td>0.0</td>\n",
              "      <td>0.0</td>\n",
              "      <td>0.0</td>\n",
              "      <td>35.0</td>\n",
              "    </tr>\n",
              "    <tr>\n",
              "      <th>1</th>\n",
              "      <td>19.058479</td>\n",
              "      <td>-98.233566</td>\n",
              "      <td>1.0</td>\n",
              "      <td>1.0</td>\n",
              "      <td>2.0</td>\n",
              "      <td>0.0</td>\n",
              "      <td>35.0</td>\n",
              "      <td>50.0</td>\n",
              "      <td>27.0</td>\n",
              "    </tr>\n",
              "    <tr>\n",
              "      <th>2</th>\n",
              "      <td>19.062077</td>\n",
              "      <td>-98.230339</td>\n",
              "      <td>1.0</td>\n",
              "      <td>0.0</td>\n",
              "      <td>0.0</td>\n",
              "      <td>0.0</td>\n",
              "      <td>40.0</td>\n",
              "      <td>25.0</td>\n",
              "      <td>42.0</td>\n",
              "    </tr>\n",
              "    <tr>\n",
              "      <th>3</th>\n",
              "      <td>19.055535</td>\n",
              "      <td>-98.232916</td>\n",
              "      <td>1.0</td>\n",
              "      <td>2.0</td>\n",
              "      <td>3.0</td>\n",
              "      <td>0.0</td>\n",
              "      <td>0.0</td>\n",
              "      <td>0.0</td>\n",
              "      <td>27.0</td>\n",
              "    </tr>\n",
              "    <tr>\n",
              "      <th>4</th>\n",
              "      <td>19.059012</td>\n",
              "      <td>-98.232994</td>\n",
              "      <td>1.0</td>\n",
              "      <td>2.0</td>\n",
              "      <td>5.0</td>\n",
              "      <td>0.0</td>\n",
              "      <td>0.0</td>\n",
              "      <td>50.0</td>\n",
              "      <td>35.0</td>\n",
              "    </tr>\n",
              "    <tr>\n",
              "      <th>...</th>\n",
              "      <td>...</td>\n",
              "      <td>...</td>\n",
              "      <td>...</td>\n",
              "      <td>...</td>\n",
              "      <td>...</td>\n",
              "      <td>...</td>\n",
              "      <td>...</td>\n",
              "      <td>...</td>\n",
              "      <td>...</td>\n",
              "    </tr>\n",
              "    <tr>\n",
              "      <th>110</th>\n",
              "      <td>19.035224</td>\n",
              "      <td>-98.267100</td>\n",
              "      <td>1.0</td>\n",
              "      <td>NaN</td>\n",
              "      <td>10.0</td>\n",
              "      <td>0.0</td>\n",
              "      <td>100.0</td>\n",
              "      <td>100.0</td>\n",
              "      <td>15.0</td>\n",
              "    </tr>\n",
              "    <tr>\n",
              "      <th>111</th>\n",
              "      <td>19.035280</td>\n",
              "      <td>-98.267856</td>\n",
              "      <td>1.0</td>\n",
              "      <td>1.0</td>\n",
              "      <td>1.0</td>\n",
              "      <td>0.0</td>\n",
              "      <td>50.0</td>\n",
              "      <td>70.0</td>\n",
              "      <td>21.0</td>\n",
              "    </tr>\n",
              "    <tr>\n",
              "      <th>112</th>\n",
              "      <td>19.035451</td>\n",
              "      <td>-98.267862</td>\n",
              "      <td>1.0</td>\n",
              "      <td>3.0</td>\n",
              "      <td>2.0</td>\n",
              "      <td>0.0</td>\n",
              "      <td>0.0</td>\n",
              "      <td>0.0</td>\n",
              "      <td>18.0</td>\n",
              "    </tr>\n",
              "    <tr>\n",
              "      <th>113</th>\n",
              "      <td>19.035486</td>\n",
              "      <td>-98.267831</td>\n",
              "      <td>1.0</td>\n",
              "      <td>2.0</td>\n",
              "      <td>4.0</td>\n",
              "      <td>0.0</td>\n",
              "      <td>30.0</td>\n",
              "      <td>100.0</td>\n",
              "      <td>18.0</td>\n",
              "    </tr>\n",
              "    <tr>\n",
              "      <th>114</th>\n",
              "      <td>19.035399</td>\n",
              "      <td>-98.267924</td>\n",
              "      <td>1.0</td>\n",
              "      <td>0.0</td>\n",
              "      <td>3.0</td>\n",
              "      <td>0.0</td>\n",
              "      <td>NaN</td>\n",
              "      <td>NaN</td>\n",
              "      <td>18.0</td>\n",
              "    </tr>\n",
              "  </tbody>\n",
              "</table>\n",
              "<p>115 rows × 9 columns</p>\n",
              "</div>\n",
              "      <button class=\"colab-df-convert\" onclick=\"convertToInteractive('df-aa8a195d-2fa7-4c1b-b95b-4c25ee411aa5')\"\n",
              "              title=\"Convert this dataframe to an interactive table.\"\n",
              "              style=\"display:none;\">\n",
              "        \n",
              "  <svg xmlns=\"http://www.w3.org/2000/svg\" height=\"24px\"viewBox=\"0 0 24 24\"\n",
              "       width=\"24px\">\n",
              "    <path d=\"M0 0h24v24H0V0z\" fill=\"none\"/>\n",
              "    <path d=\"M18.56 5.44l.94 2.06.94-2.06 2.06-.94-2.06-.94-.94-2.06-.94 2.06-2.06.94zm-11 1L8.5 8.5l.94-2.06 2.06-.94-2.06-.94L8.5 2.5l-.94 2.06-2.06.94zm10 10l.94 2.06.94-2.06 2.06-.94-2.06-.94-.94-2.06-.94 2.06-2.06.94z\"/><path d=\"M17.41 7.96l-1.37-1.37c-.4-.4-.92-.59-1.43-.59-.52 0-1.04.2-1.43.59L10.3 9.45l-7.72 7.72c-.78.78-.78 2.05 0 2.83L4 21.41c.39.39.9.59 1.41.59.51 0 1.02-.2 1.41-.59l7.78-7.78 2.81-2.81c.8-.78.8-2.07 0-2.86zM5.41 20L4 18.59l7.72-7.72 1.47 1.35L5.41 20z\"/>\n",
              "  </svg>\n",
              "      </button>\n",
              "      \n",
              "  <style>\n",
              "    .colab-df-container {\n",
              "      display:flex;\n",
              "      flex-wrap:wrap;\n",
              "      gap: 12px;\n",
              "    }\n",
              "\n",
              "    .colab-df-convert {\n",
              "      background-color: #E8F0FE;\n",
              "      border: none;\n",
              "      border-radius: 50%;\n",
              "      cursor: pointer;\n",
              "      display: none;\n",
              "      fill: #1967D2;\n",
              "      height: 32px;\n",
              "      padding: 0 0 0 0;\n",
              "      width: 32px;\n",
              "    }\n",
              "\n",
              "    .colab-df-convert:hover {\n",
              "      background-color: #E2EBFA;\n",
              "      box-shadow: 0px 1px 2px rgba(60, 64, 67, 0.3), 0px 1px 3px 1px rgba(60, 64, 67, 0.15);\n",
              "      fill: #174EA6;\n",
              "    }\n",
              "\n",
              "    [theme=dark] .colab-df-convert {\n",
              "      background-color: #3B4455;\n",
              "      fill: #D2E3FC;\n",
              "    }\n",
              "\n",
              "    [theme=dark] .colab-df-convert:hover {\n",
              "      background-color: #434B5C;\n",
              "      box-shadow: 0px 1px 3px 1px rgba(0, 0, 0, 0.15);\n",
              "      filter: drop-shadow(0px 1px 2px rgba(0, 0, 0, 0.3));\n",
              "      fill: #FFFFFF;\n",
              "    }\n",
              "  </style>\n",
              "\n",
              "      <script>\n",
              "        const buttonEl =\n",
              "          document.querySelector('#df-aa8a195d-2fa7-4c1b-b95b-4c25ee411aa5 button.colab-df-convert');\n",
              "        buttonEl.style.display =\n",
              "          google.colab.kernel.accessAllowed ? 'block' : 'none';\n",
              "\n",
              "        async function convertToInteractive(key) {\n",
              "          const element = document.querySelector('#df-aa8a195d-2fa7-4c1b-b95b-4c25ee411aa5');\n",
              "          const dataTable =\n",
              "            await google.colab.kernel.invokeFunction('convertToInteractive',\n",
              "                                                     [key], {});\n",
              "          if (!dataTable) return;\n",
              "\n",
              "          const docLinkHtml = 'Like what you see? Visit the ' +\n",
              "            '<a target=\"_blank\" href=https://colab.research.google.com/notebooks/data_table.ipynb>data table notebook</a>'\n",
              "            + ' to learn more about interactive tables.';\n",
              "          element.innerHTML = '';\n",
              "          dataTable['output_type'] = 'display_data';\n",
              "          await google.colab.output.renderOutput(dataTable, element);\n",
              "          const docLink = document.createElement('div');\n",
              "          docLink.innerHTML = docLinkHtml;\n",
              "          element.appendChild(docLink);\n",
              "        }\n",
              "      </script>\n",
              "    </div>\n",
              "  </div>\n",
              "  "
            ]
          },
          "metadata": {},
          "execution_count": 56
        }
      ]
    },
    {
      "cell_type": "code",
      "source": [
        "#Reemplazar valores atípicos (nulos) del dataframe con \"mean\"\n",
        "data4_iqr = data3_iqr.copy()\n",
        "data4_iqr = data4_iqr.fillna(round(data4_iqr.mean(),1))\n",
        "data4_iqr"
      ],
      "metadata": {
        "colab": {
          "base_uri": "https://localhost:8080/",
          "height": 488
        },
        "id": "-N1OSTxmPscz",
        "outputId": "d91d7a8f-4a70-4a8f-f699-dd457bfc3c02"
      },
      "execution_count": 59,
      "outputs": [
        {
          "output_type": "execute_result",
          "data": {
            "text/plain": [
              "     _latitude  _longitude  238_frequency_buying_store  \\\n",
              "0    19.059841  -98.234980                         1.0   \n",
              "1    19.058479  -98.233566                         1.0   \n",
              "2    19.062077  -98.230339                         1.0   \n",
              "3    19.055535  -98.232916                         1.0   \n",
              "4    19.059012  -98.232994                         1.0   \n",
              "..         ...         ...                         ...   \n",
              "110  19.035224  -98.267100                         1.0   \n",
              "111  19.035280  -98.267856                         1.0   \n",
              "112  19.035451  -98.267862                         1.0   \n",
              "113  19.035486  -98.267831                         1.0   \n",
              "114  19.035399  -98.267924                         1.0   \n",
              "\n",
              "     81_number_online_purchases_month  288_number_app_purchases_month  \\\n",
              "0                                 1.0                             0.0   \n",
              "1                                 1.0                             2.0   \n",
              "2                                 0.0                             0.0   \n",
              "3                                 2.0                             3.0   \n",
              "4                                 2.0                             5.0   \n",
              "..                                ...                             ...   \n",
              "110                               1.8                            10.0   \n",
              "111                               1.0                             1.0   \n",
              "112                               3.0                             2.0   \n",
              "113                               2.0                             4.0   \n",
              "114                               0.0                             3.0   \n",
              "\n",
              "     289_number_whatsapp_purchases_month  83_willingness_ultrafast_delivery  \\\n",
              "0                                    0.0                                0.0   \n",
              "1                                    0.0                               35.0   \n",
              "2                                    0.0                               40.0   \n",
              "3                                    0.0                                0.0   \n",
              "4                                    0.0                                0.0   \n",
              "..                                   ...                                ...   \n",
              "110                                  0.0                              100.0   \n",
              "111                                  0.0                               50.0   \n",
              "112                                  0.0                                0.0   \n",
              "113                                  0.0                               30.0   \n",
              "114                                  0.0                               35.1   \n",
              "\n",
              "     84_willingness_sameday_delivery  241_age_of_the_interviewee  \n",
              "0                                0.0                        35.0  \n",
              "1                               50.0                        27.0  \n",
              "2                               25.0                        42.0  \n",
              "3                                0.0                        27.0  \n",
              "4                               50.0                        35.0  \n",
              "..                               ...                         ...  \n",
              "110                            100.0                        15.0  \n",
              "111                             70.0                        21.0  \n",
              "112                              0.0                        18.0  \n",
              "113                            100.0                        18.0  \n",
              "114                             56.9                        18.0  \n",
              "\n",
              "[115 rows x 9 columns]"
            ],
            "text/html": [
              "\n",
              "  <div id=\"df-07e93ea2-6bb6-4198-abc5-412eb1b27ce0\">\n",
              "    <div class=\"colab-df-container\">\n",
              "      <div>\n",
              "<style scoped>\n",
              "    .dataframe tbody tr th:only-of-type {\n",
              "        vertical-align: middle;\n",
              "    }\n",
              "\n",
              "    .dataframe tbody tr th {\n",
              "        vertical-align: top;\n",
              "    }\n",
              "\n",
              "    .dataframe thead th {\n",
              "        text-align: right;\n",
              "    }\n",
              "</style>\n",
              "<table border=\"1\" class=\"dataframe\">\n",
              "  <thead>\n",
              "    <tr style=\"text-align: right;\">\n",
              "      <th></th>\n",
              "      <th>_latitude</th>\n",
              "      <th>_longitude</th>\n",
              "      <th>238_frequency_buying_store</th>\n",
              "      <th>81_number_online_purchases_month</th>\n",
              "      <th>288_number_app_purchases_month</th>\n",
              "      <th>289_number_whatsapp_purchases_month</th>\n",
              "      <th>83_willingness_ultrafast_delivery</th>\n",
              "      <th>84_willingness_sameday_delivery</th>\n",
              "      <th>241_age_of_the_interviewee</th>\n",
              "    </tr>\n",
              "  </thead>\n",
              "  <tbody>\n",
              "    <tr>\n",
              "      <th>0</th>\n",
              "      <td>19.059841</td>\n",
              "      <td>-98.234980</td>\n",
              "      <td>1.0</td>\n",
              "      <td>1.0</td>\n",
              "      <td>0.0</td>\n",
              "      <td>0.0</td>\n",
              "      <td>0.0</td>\n",
              "      <td>0.0</td>\n",
              "      <td>35.0</td>\n",
              "    </tr>\n",
              "    <tr>\n",
              "      <th>1</th>\n",
              "      <td>19.058479</td>\n",
              "      <td>-98.233566</td>\n",
              "      <td>1.0</td>\n",
              "      <td>1.0</td>\n",
              "      <td>2.0</td>\n",
              "      <td>0.0</td>\n",
              "      <td>35.0</td>\n",
              "      <td>50.0</td>\n",
              "      <td>27.0</td>\n",
              "    </tr>\n",
              "    <tr>\n",
              "      <th>2</th>\n",
              "      <td>19.062077</td>\n",
              "      <td>-98.230339</td>\n",
              "      <td>1.0</td>\n",
              "      <td>0.0</td>\n",
              "      <td>0.0</td>\n",
              "      <td>0.0</td>\n",
              "      <td>40.0</td>\n",
              "      <td>25.0</td>\n",
              "      <td>42.0</td>\n",
              "    </tr>\n",
              "    <tr>\n",
              "      <th>3</th>\n",
              "      <td>19.055535</td>\n",
              "      <td>-98.232916</td>\n",
              "      <td>1.0</td>\n",
              "      <td>2.0</td>\n",
              "      <td>3.0</td>\n",
              "      <td>0.0</td>\n",
              "      <td>0.0</td>\n",
              "      <td>0.0</td>\n",
              "      <td>27.0</td>\n",
              "    </tr>\n",
              "    <tr>\n",
              "      <th>4</th>\n",
              "      <td>19.059012</td>\n",
              "      <td>-98.232994</td>\n",
              "      <td>1.0</td>\n",
              "      <td>2.0</td>\n",
              "      <td>5.0</td>\n",
              "      <td>0.0</td>\n",
              "      <td>0.0</td>\n",
              "      <td>50.0</td>\n",
              "      <td>35.0</td>\n",
              "    </tr>\n",
              "    <tr>\n",
              "      <th>...</th>\n",
              "      <td>...</td>\n",
              "      <td>...</td>\n",
              "      <td>...</td>\n",
              "      <td>...</td>\n",
              "      <td>...</td>\n",
              "      <td>...</td>\n",
              "      <td>...</td>\n",
              "      <td>...</td>\n",
              "      <td>...</td>\n",
              "    </tr>\n",
              "    <tr>\n",
              "      <th>110</th>\n",
              "      <td>19.035224</td>\n",
              "      <td>-98.267100</td>\n",
              "      <td>1.0</td>\n",
              "      <td>1.8</td>\n",
              "      <td>10.0</td>\n",
              "      <td>0.0</td>\n",
              "      <td>100.0</td>\n",
              "      <td>100.0</td>\n",
              "      <td>15.0</td>\n",
              "    </tr>\n",
              "    <tr>\n",
              "      <th>111</th>\n",
              "      <td>19.035280</td>\n",
              "      <td>-98.267856</td>\n",
              "      <td>1.0</td>\n",
              "      <td>1.0</td>\n",
              "      <td>1.0</td>\n",
              "      <td>0.0</td>\n",
              "      <td>50.0</td>\n",
              "      <td>70.0</td>\n",
              "      <td>21.0</td>\n",
              "    </tr>\n",
              "    <tr>\n",
              "      <th>112</th>\n",
              "      <td>19.035451</td>\n",
              "      <td>-98.267862</td>\n",
              "      <td>1.0</td>\n",
              "      <td>3.0</td>\n",
              "      <td>2.0</td>\n",
              "      <td>0.0</td>\n",
              "      <td>0.0</td>\n",
              "      <td>0.0</td>\n",
              "      <td>18.0</td>\n",
              "    </tr>\n",
              "    <tr>\n",
              "      <th>113</th>\n",
              "      <td>19.035486</td>\n",
              "      <td>-98.267831</td>\n",
              "      <td>1.0</td>\n",
              "      <td>2.0</td>\n",
              "      <td>4.0</td>\n",
              "      <td>0.0</td>\n",
              "      <td>30.0</td>\n",
              "      <td>100.0</td>\n",
              "      <td>18.0</td>\n",
              "    </tr>\n",
              "    <tr>\n",
              "      <th>114</th>\n",
              "      <td>19.035399</td>\n",
              "      <td>-98.267924</td>\n",
              "      <td>1.0</td>\n",
              "      <td>0.0</td>\n",
              "      <td>3.0</td>\n",
              "      <td>0.0</td>\n",
              "      <td>35.1</td>\n",
              "      <td>56.9</td>\n",
              "      <td>18.0</td>\n",
              "    </tr>\n",
              "  </tbody>\n",
              "</table>\n",
              "<p>115 rows × 9 columns</p>\n",
              "</div>\n",
              "      <button class=\"colab-df-convert\" onclick=\"convertToInteractive('df-07e93ea2-6bb6-4198-abc5-412eb1b27ce0')\"\n",
              "              title=\"Convert this dataframe to an interactive table.\"\n",
              "              style=\"display:none;\">\n",
              "        \n",
              "  <svg xmlns=\"http://www.w3.org/2000/svg\" height=\"24px\"viewBox=\"0 0 24 24\"\n",
              "       width=\"24px\">\n",
              "    <path d=\"M0 0h24v24H0V0z\" fill=\"none\"/>\n",
              "    <path d=\"M18.56 5.44l.94 2.06.94-2.06 2.06-.94-2.06-.94-.94-2.06-.94 2.06-2.06.94zm-11 1L8.5 8.5l.94-2.06 2.06-.94-2.06-.94L8.5 2.5l-.94 2.06-2.06.94zm10 10l.94 2.06.94-2.06 2.06-.94-2.06-.94-.94-2.06-.94 2.06-2.06.94z\"/><path d=\"M17.41 7.96l-1.37-1.37c-.4-.4-.92-.59-1.43-.59-.52 0-1.04.2-1.43.59L10.3 9.45l-7.72 7.72c-.78.78-.78 2.05 0 2.83L4 21.41c.39.39.9.59 1.41.59.51 0 1.02-.2 1.41-.59l7.78-7.78 2.81-2.81c.8-.78.8-2.07 0-2.86zM5.41 20L4 18.59l7.72-7.72 1.47 1.35L5.41 20z\"/>\n",
              "  </svg>\n",
              "      </button>\n",
              "      \n",
              "  <style>\n",
              "    .colab-df-container {\n",
              "      display:flex;\n",
              "      flex-wrap:wrap;\n",
              "      gap: 12px;\n",
              "    }\n",
              "\n",
              "    .colab-df-convert {\n",
              "      background-color: #E8F0FE;\n",
              "      border: none;\n",
              "      border-radius: 50%;\n",
              "      cursor: pointer;\n",
              "      display: none;\n",
              "      fill: #1967D2;\n",
              "      height: 32px;\n",
              "      padding: 0 0 0 0;\n",
              "      width: 32px;\n",
              "    }\n",
              "\n",
              "    .colab-df-convert:hover {\n",
              "      background-color: #E2EBFA;\n",
              "      box-shadow: 0px 1px 2px rgba(60, 64, 67, 0.3), 0px 1px 3px 1px rgba(60, 64, 67, 0.15);\n",
              "      fill: #174EA6;\n",
              "    }\n",
              "\n",
              "    [theme=dark] .colab-df-convert {\n",
              "      background-color: #3B4455;\n",
              "      fill: #D2E3FC;\n",
              "    }\n",
              "\n",
              "    [theme=dark] .colab-df-convert:hover {\n",
              "      background-color: #434B5C;\n",
              "      box-shadow: 0px 1px 3px 1px rgba(0, 0, 0, 0.15);\n",
              "      filter: drop-shadow(0px 1px 2px rgba(0, 0, 0, 0.3));\n",
              "      fill: #FFFFFF;\n",
              "    }\n",
              "  </style>\n",
              "\n",
              "      <script>\n",
              "        const buttonEl =\n",
              "          document.querySelector('#df-07e93ea2-6bb6-4198-abc5-412eb1b27ce0 button.colab-df-convert');\n",
              "        buttonEl.style.display =\n",
              "          google.colab.kernel.accessAllowed ? 'block' : 'none';\n",
              "\n",
              "        async function convertToInteractive(key) {\n",
              "          const element = document.querySelector('#df-07e93ea2-6bb6-4198-abc5-412eb1b27ce0');\n",
              "          const dataTable =\n",
              "            await google.colab.kernel.invokeFunction('convertToInteractive',\n",
              "                                                     [key], {});\n",
              "          if (!dataTable) return;\n",
              "\n",
              "          const docLinkHtml = 'Like what you see? Visit the ' +\n",
              "            '<a target=\"_blank\" href=https://colab.research.google.com/notebooks/data_table.ipynb>data table notebook</a>'\n",
              "            + ' to learn more about interactive tables.';\n",
              "          element.innerHTML = '';\n",
              "          dataTable['output_type'] = 'display_data';\n",
              "          await google.colab.output.renderOutput(dataTable, element);\n",
              "          const docLink = document.createElement('div');\n",
              "          docLink.innerHTML = docLinkHtml;\n",
              "          element.appendChild(docLink);\n",
              "        }\n",
              "      </script>\n",
              "    </div>\n",
              "  </div>\n",
              "  "
            ]
          },
          "metadata": {},
          "execution_count": 59
        }
      ]
    },
    {
      "cell_type": "code",
      "source": [
        "#Unimos la columna 'indice_tiempo' con el dataframe\n",
        "Nonumerico=data[['_record_id','_title', '_server_updated_at', '_updated_by','_geometry', '282_payment_method_that_purchase', '283_fulfill_needs', '237_distance_household_interviewee', '299_means_transportation_consumer', '301_electricity_bill', '305_electricity_bill_store', '302_water_bill', '306_water_bill_store', '303_gas_bill', '307_gas_bill_store', '286_topups', '308_topups_in_store', '287_wire_transfers','309_wiretransfers_in_store', '320_other_services_in_store', '240_gender_interviewee', 'indicate_the_type_of_store', 'name_of_the_store', 'storefront_picture_just_once_if_possible']]\n",
        "Datos_limpios=pd.concat([Nonumerico, data4_iqr], axis=1)\n",
        "Datos_limpios"
      ],
      "metadata": {
        "id": "kjskX5OeQAoY"
      },
      "execution_count": null,
      "outputs": []
    },
    {
      "cell_type": "code",
      "source": [
        "valores_nulos=Datos_limpios.isnull().sum()\n",
        "valores_nulos"
      ],
      "metadata": {
        "id": "fym1huSWYFh1"
      },
      "execution_count": null,
      "outputs": []
    },
    {
      "cell_type": "code",
      "source": [
        "Datos_limpios.to_csv('Datos_limpios_consumidor_examen.csv')\n",
        "from google.colab import files\n",
        "files.download('Datos_limpios_consumidor_examen.csv')"
      ],
      "metadata": {
        "colab": {
          "base_uri": "https://localhost:8080/",
          "height": 17
        },
        "id": "lvJQQ9rfYNwH",
        "outputId": "dd4ce758-bb52-4d23-f634-d1a3b2bda84e"
      },
      "execution_count": 167,
      "outputs": [
        {
          "output_type": "display_data",
          "data": {
            "text/plain": [
              "<IPython.core.display.Javascript object>"
            ],
            "application/javascript": [
              "\n",
              "    async function download(id, filename, size) {\n",
              "      if (!google.colab.kernel.accessAllowed) {\n",
              "        return;\n",
              "      }\n",
              "      const div = document.createElement('div');\n",
              "      const label = document.createElement('label');\n",
              "      label.textContent = `Downloading \"${filename}\": `;\n",
              "      div.appendChild(label);\n",
              "      const progress = document.createElement('progress');\n",
              "      progress.max = size;\n",
              "      div.appendChild(progress);\n",
              "      document.body.appendChild(div);\n",
              "\n",
              "      const buffers = [];\n",
              "      let downloaded = 0;\n",
              "\n",
              "      const channel = await google.colab.kernel.comms.open(id);\n",
              "      // Send a message to notify the kernel that we're ready.\n",
              "      channel.send({})\n",
              "\n",
              "      for await (const message of channel.messages) {\n",
              "        // Send a message to notify the kernel that we're ready.\n",
              "        channel.send({})\n",
              "        if (message.buffers) {\n",
              "          for (const buffer of message.buffers) {\n",
              "            buffers.push(buffer);\n",
              "            downloaded += buffer.byteLength;\n",
              "            progress.value = downloaded;\n",
              "          }\n",
              "        }\n",
              "      }\n",
              "      const blob = new Blob(buffers, {type: 'application/binary'});\n",
              "      const a = document.createElement('a');\n",
              "      a.href = window.URL.createObjectURL(blob);\n",
              "      a.download = filename;\n",
              "      div.appendChild(a);\n",
              "      a.click();\n",
              "      div.remove();\n",
              "    }\n",
              "  "
            ]
          },
          "metadata": {}
        },
        {
          "output_type": "display_data",
          "data": {
            "text/plain": [
              "<IPython.core.display.Javascript object>"
            ],
            "application/javascript": [
              "download(\"download_143ef897-94ce-42ba-b658-07e788fd207f\", \"Datos_limpios_consumidor_examen.csv\", 56296)"
            ]
          },
          "metadata": {}
        }
      ]
    },
    {
      "cell_type": "markdown",
      "source": [
        "## **Last Mile Delivery**"
      ],
      "metadata": {
        "id": "Rj7OJ8SdY4_X"
      }
    },
    {
      "cell_type": "code",
      "source": [
        "from google.colab import files\n",
        "files.upload()\n",
        "datam = pd.read_csv('lastmile_delivery_operations_mit_lift_lab.csv')\n",
        "datam"
      ],
      "metadata": {
        "id": "If0Q3VQEZAx6"
      },
      "execution_count": null,
      "outputs": []
    },
    {
      "cell_type": "code",
      "source": [
        "valores_nulos = datam.isnull().sum()\n",
        "valores_nulos"
      ],
      "metadata": {
        "colab": {
          "base_uri": "https://localhost:8080/"
        },
        "id": "VrUs71_nZx1C",
        "outputId": "3530906f-3e2e-4424-e981-dd3977435d34"
      },
      "execution_count": 72,
      "outputs": [
        {
          "output_type": "execute_result",
          "data": {
            "text/plain": [
              "_record_id                                         0\n",
              "_title                                             6\n",
              "_server_updated_at                                 0\n",
              "_updated_by                                        0\n",
              "_geometry                                          0\n",
              "_latitude                                          0\n",
              "_longitude                                         0\n",
              "arrival_of_the_freight_vehicle                     0\n",
              "plates                                             1\n",
              "company_if_visible                                73\n",
              "visit_purpose                                      0\n",
              "type_of_vehicle                                    0\n",
              "number_of_operators                                0\n",
              "refrigerated_truck                                 0\n",
              "type_of_cargo                                      0\n",
              "picture_of_the_parked_freight_vehicle              0\n",
              "departure_of_the_freight_vehicle                   0\n",
              "where_was_the_vehicle_parked                       0\n",
              "while_parked_was_the_engine_running                0\n",
              "used_traffic_cone                                  0\n",
              "vehicles_unloading_door                            0\n",
              "number_of_available_trolleys                       0\n",
              "serving_customer                                 147\n",
              "garage_blocking                                    0\n",
              "accident                                           0\n",
              "describe_the_accident                            182\n",
              "noise                                              0\n",
              "traffic_congestion                                 0\n",
              "maximum_number_of_vehicles_in_the_traffic_jam    180\n",
              "dtype: int64"
            ]
          },
          "metadata": {},
          "execution_count": 72
        }
      ]
    },
    {
      "cell_type": "markdown",
      "source": [
        " **Eliminar valores nulos de la base de datos**"
      ],
      "metadata": {
        "id": "i_zDaTsIZxYx"
      }
    },
    {
      "cell_type": "code",
      "source": [
        "#Eliminar valos nulos de la columna '_title' el cuál es categórico\n",
        "#Cuarto método de sustitución de valores nulos visto en clase\n",
        "#Sustituir valores nulos por un string en concreto\n",
        "#Esto se debe a que si sustituimos por algún valor inventado que no sea 'Sin calle' alteraría la información obtenida\n",
        "datam[\"_title\"] = datam[\"_title\"].fillna(\"Sin calle\")"
      ],
      "metadata": {
        "id": "T-ZjHQ71aRZi"
      },
      "execution_count": 96,
      "outputs": []
    },
    {
      "cell_type": "code",
      "source": [
        "valores_nulos = datam.isnull().sum()\n",
        "valores_nulos"
      ],
      "metadata": {
        "id": "VVAMcXe_adSA"
      },
      "execution_count": null,
      "outputs": []
    },
    {
      "cell_type": "code",
      "source": [
        "#Eliminar valos nulos de la columna 'plates' el cuál es categórico\n",
        "#Cuarto método de sustitución de valores nulos visto en clase\n",
        "#Sustituir valores nulos por un string en concreto\n",
        "#Esto se debe a que si sustituimos por algún valor inventado que no sea 'Sin placas' alteraría la información obtenida\n",
        "datam[\"plates\"] = datam[\"plates\"].fillna(\"Sin placas\")"
      ],
      "metadata": {
        "id": "wz0is5daauxC"
      },
      "execution_count": 99,
      "outputs": []
    },
    {
      "cell_type": "code",
      "source": [
        "valores_nulos = datam.isnull().sum()\n",
        "valores_nulos"
      ],
      "metadata": {
        "id": "45XpIUJmbhCz"
      },
      "execution_count": null,
      "outputs": []
    },
    {
      "cell_type": "code",
      "source": [
        "#Eliminar valos nulos de la columna 'company_if_visible' el cuál es categórico\n",
        "#Cuarto método de sustitución de valores nulos visto en clase\n",
        "#Sustituir valores nulos por un string en concreto\n",
        "#Esto se debe a que si sustituimos por algún valor inventado que no sea 'Sin compañía' alteraría la información obtenida\n",
        "datam[\"company_if_visible\"] = datam[\"company_if_visible\"].fillna(\"Sin compañía\")"
      ],
      "metadata": {
        "id": "09wFPbEibjwR"
      },
      "execution_count": 101,
      "outputs": []
    },
    {
      "cell_type": "code",
      "source": [
        "valores_nulos = datam.isnull().sum()\n",
        "valores_nulos"
      ],
      "metadata": {
        "id": "fMWGigiQbr3d"
      },
      "execution_count": null,
      "outputs": []
    },
    {
      "cell_type": "code",
      "source": [
        "#Eliminar valos nulos de la columna 'serving_customer' el cuál es categórico\n",
        "#Cuarto método de sustitución de valores nulos visto en clase\n",
        "#Sustituir valores nulos por un string en concreto\n",
        "#Esto se debe a que si sustituimos por algún valor inventado que no sea '0' alteraría la información obtenida\n",
        "datam[\"serving_customer\"] = datam[\"serving_customer\"].fillna(0)"
      ],
      "metadata": {
        "id": "opzBwDurcFWR"
      },
      "execution_count": 103,
      "outputs": []
    },
    {
      "cell_type": "code",
      "source": [
        "valores_nulos = datam.isnull().sum()\n",
        "valores_nulos"
      ],
      "metadata": {
        "id": "uc6ULF9GcRgX"
      },
      "execution_count": null,
      "outputs": []
    },
    {
      "cell_type": "code",
      "source": [
        "#Eliminar valos nulos de la columna 'describe_the_accident' el cuál es categórico\n",
        "#Cuarto método de sustitución de valores nulos visto en clase\n",
        "#Sustituir valores nulos por un string en concreto\n",
        "#Esto se debe a que si sustituimos por algún valor inventado que no sea 'Sin accidente' alteraría la información obtenida\n",
        "datam[\"describe_the_accident\"] = datam[\"describe_the_accident\"].fillna(\"Sin accidente\")"
      ],
      "metadata": {
        "id": "v0tjelLrcUjj"
      },
      "execution_count": 105,
      "outputs": []
    },
    {
      "cell_type": "code",
      "source": [
        "valores_nulos = datam.isnull().sum()\n",
        "valores_nulos"
      ],
      "metadata": {
        "id": "hFDB2trRceki"
      },
      "execution_count": null,
      "outputs": []
    },
    {
      "cell_type": "code",
      "source": [
        "#Eliminar valos nulos de la columna 'maximum_number_of_vehicles_in_the_traffic_jam' el cuál es categórico\n",
        "#Cuarto método de sustitución de valores nulos visto en clase\n",
        "#Sustituir valores nulos por un string en concreto\n",
        "#Esto se debe a que si sustituimos por algún valor inventado que no sea '0' alteraría la información obtenida\n",
        "datam[\"maximum_number_of_vehicles_in_the_traffic_jam\"] = datam[\"maximum_number_of_vehicles_in_the_traffic_jam\"].fillna(0)"
      ],
      "metadata": {
        "id": "qcPL-ioicgbR"
      },
      "execution_count": 107,
      "outputs": []
    },
    {
      "cell_type": "code",
      "source": [
        "valores_nulos = datam.isnull().sum()\n",
        "valores_nulos"
      ],
      "metadata": {
        "id": "SbZPSq2qcmNw"
      },
      "execution_count": null,
      "outputs": []
    },
    {
      "cell_type": "markdown",
      "source": [
        "**Identificación y eliminación de outliers**"
      ],
      "metadata": {
        "id": "9pZ5q1i2cnnV"
      }
    },
    {
      "cell_type": "code",
      "source": [
        "#Método aplicación Cuartiles, Encuentro cuartiles 0.25 y 0.75\n",
        "ym = datam\n",
        "\n",
        "percentile25 = ym.quantile(0.25) #Q1\n",
        "percentile75 = ym.quantile(0.75) #Q3\n",
        "iqrm = percentile75 - percentile25\n",
        "\n",
        "Limite_Superior_iqrm= percentile75 + 1.5*iqrm\n",
        "Limite_Inferior_iqrm= percentile25 - 1.5*iqrm\n",
        "print('Limite superior permitido', Limite_Superior_iqrm)\n",
        "print('Limite inferior permitido', Limite_Inferior_iqrm)"
      ],
      "metadata": {
        "colab": {
          "base_uri": "https://localhost:8080/"
        },
        "id": "6WxK3UyLcsn8",
        "outputId": "35f83b70-e2dd-4fa7-a680-e3c35fa7ed60"
      },
      "execution_count": 138,
      "outputs": [
        {
          "output_type": "stream",
          "name": "stdout",
          "text": [
            "Limite superior permitido _latitude                       19.123517\n",
            "_longitude                     -98.098434\n",
            "number_of_operators              3.500000\n",
            "number_of_available_trolleys     2.500000\n",
            "dtype: float64\n",
            "Limite inferior permitido _latitude                       18.961271\n",
            "_longitude                     -98.366619\n",
            "number_of_operators             -0.500000\n",
            "number_of_available_trolleys    -1.500000\n",
            "dtype: float64\n"
          ]
        }
      ]
    },
    {
      "cell_type": "code",
      "source": [
        "outliers_iqrm = datam[(ym>Limite_Superior_iqrm)|(ym<Limite_Inferior_iqrm)]\n",
        "outliers_iqrm"
      ],
      "metadata": {
        "id": "WPHnEmNQdubI"
      },
      "execution_count": null,
      "outputs": []
    },
    {
      "cell_type": "code",
      "source": [
        "data2_iqrm= datam[(ym<=Limite_Superior_iqrm)&(ym>=Limite_Inferior_iqrm)]\n",
        "data2_iqrm"
      ],
      "metadata": {
        "id": "RddPrseceEh3"
      },
      "execution_count": null,
      "outputs": []
    },
    {
      "cell_type": "code",
      "source": [
        "#Eliminamos la columna innecesaria\n",
        "data3_iqrm = data2_iqrm.drop(['_record_id','_title','_server_updated_at','_updated_by','_geometry','arrival_of_the_freight_vehicle','plates','company_if_visible','visit_purpose','type_of_vehicle','refrigerated_truck','type_of_cargo','picture_of_the_parked_freight_vehicle','departure_of_the_freight_vehicle','where_was_the_vehicle_parked','while_parked_was_the_engine_running','used_traffic_cone','vehicles_unloading_door','serving_customer','garage_blocking','accident','describe_the_accident','noise','traffic_congestion','maximum_number_of_vehicles_in_the_traffic_jam'], axis = 1)\n",
        "data3_iqrm"
      ],
      "metadata": {
        "id": "alXqF23bePR3"
      },
      "execution_count": null,
      "outputs": []
    },
    {
      "cell_type": "code",
      "source": [
        "#Buscamos outliers\n",
        "valores_nulos = data3_iqrm.isnull().sum()\n",
        "valores_nulos"
      ],
      "metadata": {
        "id": "jl35oOLTgJpx"
      },
      "execution_count": null,
      "outputs": []
    },
    {
      "cell_type": "code",
      "source": [
        "#Reemplazar valores atípicos (nulos) del dataframe con \"mean\"\n",
        "data4_iqrm = data3_iqrm.copy()\n",
        "data4_iqrm = data4_iqrm.fillna(round(data4_iqrm.mean(),1))\n",
        "data4_iqrm"
      ],
      "metadata": {
        "id": "oLc8f-DvfZZh"
      },
      "execution_count": null,
      "outputs": []
    },
    {
      "cell_type": "code",
      "source": [
        "#Corroboramos outliers\n",
        "valores_nulos = data4_iqrm.isnull().sum()\n",
        "valores_nulos"
      ],
      "metadata": {
        "id": "dtbCvcZcgRzb"
      },
      "execution_count": null,
      "outputs": []
    },
    {
      "cell_type": "code",
      "source": [
        "#Unimos la columna 'indice_tiempo' con el data frame\n",
        "Nonumericosm=datam[['_record_id','_title','_server_updated_at','_updated_by','_geometry','arrival_of_the_freight_vehicle','plates','company_if_visible','visit_purpose','type_of_vehicle','refrigerated_truck','type_of_cargo','picture_of_the_parked_freight_vehicle','departure_of_the_freight_vehicle','where_was_the_vehicle_parked','while_parked_was_the_engine_running','used_traffic_cone','vehicles_unloading_door','serving_customer','garage_blocking','accident','describe_the_accident','noise','traffic_congestion','maximum_number_of_vehicles_in_the_traffic_jam']]\n",
        "Datos_limpiosm=pd.concat([Nonumericosm, data4_iqrm], axis=1)\n",
        "Datos_limpiosm"
      ],
      "metadata": {
        "id": "tYL2WHlBgcVK"
      },
      "execution_count": null,
      "outputs": []
    },
    {
      "cell_type": "code",
      "source": [
        "Datos_limpiosm.to_csv('Datos_limpios_lastmile_delivery_examen.csv')\n",
        "from google.colab import files\n",
        "files.download('Datos_limpios_lastmile_delivery_examen.csv')"
      ],
      "metadata": {
        "id": "TTamYCiug_K0"
      },
      "execution_count": null,
      "outputs": []
    },
    {
      "cell_type": "markdown",
      "source": [
        "## **Last Mile Delivery Serving Customers**"
      ],
      "metadata": {
        "id": "S1xKd1G9htYN"
      }
    },
    {
      "cell_type": "code",
      "source": [
        "from google.colab import files\n",
        "files.upload()\n",
        "datac = pd.read_csv('lastmile_delivery_operations_mit_lift_lab_serving_customer.csv')\n",
        "datac"
      ],
      "metadata": {
        "id": "HsnwVhkUiDi7"
      },
      "execution_count": null,
      "outputs": []
    },
    {
      "cell_type": "code",
      "source": [
        "valores_nulos = datac.isnull().sum()\n",
        "valores_nulos"
      ],
      "metadata": {
        "id": "TKuFJWJHinrh"
      },
      "execution_count": null,
      "outputs": []
    },
    {
      "cell_type": "markdown",
      "source": [
        " **Eliminar valores nulos de la base de datos**"
      ],
      "metadata": {
        "id": "kiHP_0aIjjxD"
      }
    },
    {
      "cell_type": "code",
      "source": [
        "#Eliminar valos nulos de la columnas 'picture_cargo_being_delivered', 'picture_cargo_being_delivered_captions' y 'picture_cargo_being_delivered_urls' las cuáles son categóricas\n",
        "#Cuarto método de sustitución de valores nulos visto en clase\n",
        "#Sustituir valores nulos por un string en concreto\n",
        "#Esto se debe a que si sustituimos por algún valor inventado que no sea 'No photo' alteraría la información obtenida\n",
        "datac[\"picture_cargo_being_delivered\"] = datac[\"picture_cargo_being_delivered\"].fillna('No Photo')\n",
        "datac[\"picture_cargo_being_delivered_captions\"] = datac[\"picture_cargo_being_delivered_captions\"].fillna('No Photo')\n",
        "datac[\"picture_cargo_being_delivered_urls\"] = datac[\"picture_cargo_being_delivered_urls\"].fillna('No Photo')"
      ],
      "metadata": {
        "id": "Nh12UVffi-ZF"
      },
      "execution_count": 136,
      "outputs": []
    },
    {
      "cell_type": "code",
      "source": [
        "valores_nulos = datac.isnull().sum()\n",
        "valores_nulos"
      ],
      "metadata": {
        "id": "w5ljBb4YjdxC"
      },
      "execution_count": null,
      "outputs": []
    },
    {
      "cell_type": "markdown",
      "source": [
        "**Identificación y eliminación de outliers**"
      ],
      "metadata": {
        "id": "w9oG2ux3jiwV"
      }
    },
    {
      "cell_type": "code",
      "source": [
        "#Método aplicación Cuartiles, Encuentro cuartiles 0.25 y 0.75\n",
        "yc = datac\n",
        "\n",
        "percentile25 = yc.quantile(0.25) #Q1\n",
        "percentile75 = yc.quantile(0.75) #Q3\n",
        "iqrc = percentile75 - percentile25\n",
        "\n",
        "Limite_Superior_iqrc= percentile75 + 1.5*iqrc\n",
        "Limite_Inferior_iqrc= percentile25 - 1.5*iqrc\n",
        "print('Limite superior permitido', Limite_Superior_iqrc)\n",
        "print('Limite inferior permitido', Limite_Inferior_iqrc)"
      ],
      "metadata": {
        "id": "JJn883R6jzd_"
      },
      "execution_count": null,
      "outputs": []
    },
    {
      "cell_type": "code",
      "source": [
        "outliers_iqrc = datac[(yc>Limite_Superior_iqrc)|(yc<Limite_Inferior_iqrc)]\n",
        "outliers_iqrc"
      ],
      "metadata": {
        "id": "0be2QC_ej_qx"
      },
      "execution_count": null,
      "outputs": []
    },
    {
      "cell_type": "code",
      "source": [
        "data2_iqrc= datac[(yc<=Limite_Superior_iqrc)&(yc>=Limite_Inferior_iqrc)]\n",
        "data2_iqrc.head()"
      ],
      "metadata": {
        "id": "2nffriiikYIn"
      },
      "execution_count": null,
      "outputs": []
    },
    {
      "cell_type": "code",
      "source": [
        "#Eliminamos la columna innecesaria\n",
        "data3_iqrc = data2_iqrc.drop(['_child_record_id','_record_id','_parent_id','_title','_created_at','_updated_at','_created_by','_updated_by','_geometry','_changeset_id','name_of_the_store','entering_the_store','picture_cargo_being_delivered','picture_cargo_being_delivered_captions','picture_cargo_being_delivered_urls','trolley_in_use','leaving_the_store'], axis = 1)\n",
        "data3_iqrc"
      ],
      "metadata": {
        "id": "TkgCPe8GkiBl"
      },
      "execution_count": null,
      "outputs": []
    },
    {
      "cell_type": "code",
      "source": [
        "#Buscamos outliers\n",
        "valores_nulos = data3_iqrc.isnull().sum()\n",
        "valores_nulos"
      ],
      "metadata": {
        "id": "o5LzaQZ8lc03"
      },
      "execution_count": null,
      "outputs": []
    },
    {
      "cell_type": "code",
      "source": [
        "#Reemplazar valores atípicos (nulos) del dataframe con \"mean\"\n",
        "data4_iqrc = data3_iqrc.copy()\n",
        "data4_iqrc = data4_iqrc.fillna(round(data4_iqrc.mean(),1))\n",
        "data4_iqrc"
      ],
      "metadata": {
        "id": "ufDMd3dlljMV"
      },
      "execution_count": null,
      "outputs": []
    },
    {
      "cell_type": "code",
      "source": [
        "#Corroboramos outliers\n",
        "valores_nulos = data4_iqrc.isnull().sum()\n",
        "valores_nulos"
      ],
      "metadata": {
        "id": "9I30bcGeltPL"
      },
      "execution_count": null,
      "outputs": []
    },
    {
      "cell_type": "code",
      "source": [
        "#Unimos las columnas eliminadas con el data frame\n",
        "Nonumericosc=datac[['_child_record_id','_record_id','_parent_id','_title','_created_at','_updated_at','_created_by','_updated_by','_geometry','_changeset_id','name_of_the_store','entering_the_store','picture_cargo_being_delivered','picture_cargo_being_delivered_captions','picture_cargo_being_delivered_urls','trolley_in_use','leaving_the_store']]\n",
        "Datos_limpiosc=pd.concat([Nonumericosc, data4_iqrc], axis=1)\n",
        "Datos_limpiosc"
      ],
      "metadata": {
        "id": "FZb7a0t7lxqZ"
      },
      "execution_count": null,
      "outputs": []
    },
    {
      "cell_type": "code",
      "source": [
        "Datos_limpiosc.to_csv('Datos_limpios_lastmile_delivery_serving_customer_examen.csv')\n",
        "from google.colab import files\n",
        "files.download('Datos_limpios_lastmile_delivery_serving_customer_examen.csv')"
      ],
      "metadata": {
        "colab": {
          "base_uri": "https://localhost:8080/",
          "height": 17
        },
        "id": "yvm4Jmz2mEaj",
        "outputId": "77642f57-4ed7-4a37-f32b-91aa157c77c7"
      },
      "execution_count": 162,
      "outputs": [
        {
          "output_type": "display_data",
          "data": {
            "text/plain": [
              "<IPython.core.display.Javascript object>"
            ],
            "application/javascript": [
              "\n",
              "    async function download(id, filename, size) {\n",
              "      if (!google.colab.kernel.accessAllowed) {\n",
              "        return;\n",
              "      }\n",
              "      const div = document.createElement('div');\n",
              "      const label = document.createElement('label');\n",
              "      label.textContent = `Downloading \"${filename}\": `;\n",
              "      div.appendChild(label);\n",
              "      const progress = document.createElement('progress');\n",
              "      progress.max = size;\n",
              "      div.appendChild(progress);\n",
              "      document.body.appendChild(div);\n",
              "\n",
              "      const buffers = [];\n",
              "      let downloaded = 0;\n",
              "\n",
              "      const channel = await google.colab.kernel.comms.open(id);\n",
              "      // Send a message to notify the kernel that we're ready.\n",
              "      channel.send({})\n",
              "\n",
              "      for await (const message of channel.messages) {\n",
              "        // Send a message to notify the kernel that we're ready.\n",
              "        channel.send({})\n",
              "        if (message.buffers) {\n",
              "          for (const buffer of message.buffers) {\n",
              "            buffers.push(buffer);\n",
              "            downloaded += buffer.byteLength;\n",
              "            progress.value = downloaded;\n",
              "          }\n",
              "        }\n",
              "      }\n",
              "      const blob = new Blob(buffers, {type: 'application/binary'});\n",
              "      const a = document.createElement('a');\n",
              "      a.href = window.URL.createObjectURL(blob);\n",
              "      a.download = filename;\n",
              "      div.appendChild(a);\n",
              "      a.click();\n",
              "      div.remove();\n",
              "    }\n",
              "  "
            ]
          },
          "metadata": {}
        },
        {
          "output_type": "display_data",
          "data": {
            "text/plain": [
              "<IPython.core.display.Javascript object>"
            ],
            "application/javascript": [
              "download(\"download_494ef3ed-ed32-477b-981d-81300e0a877d\", \"Datos_limpios_lastmile_delivery_serving_customer_examen.csv\", 22711)"
            ]
          },
          "metadata": {}
        }
      ]
    }
  ]
}