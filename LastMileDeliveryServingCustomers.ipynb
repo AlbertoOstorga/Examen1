{
  "nbformat": 4,
  "nbformat_minor": 0,
  "metadata": {
    "colab": {
      "provenance": [],
      "authorship_tag": "ABX9TyOpcayfVaGvpA7t62LfNsbj",
      "include_colab_link": true
    },
    "kernelspec": {
      "name": "python3",
      "display_name": "Python 3"
    },
    "language_info": {
      "name": "python"
    }
  },
  "cells": [
    {
      "cell_type": "markdown",
      "metadata": {
        "id": "view-in-github",
        "colab_type": "text"
      },
      "source": [
        "<a href=\"https://colab.research.google.com/github/AlbertoOstorga/Examen1/blob/main/LastMileDeliveryServingCustomers.ipynb\" target=\"_parent\"><img src=\"https://colab.research.google.com/assets/colab-badge.svg\" alt=\"Open In Colab\"/></a>"
      ]
    },
    {
      "cell_type": "markdown",
      "source": [
        "## **Last Mile Delivery Serving Customers**"
      ],
      "metadata": {
        "id": "S1xKd1G9htYN"
      }
    },
    {
      "cell_type": "code",
      "source": [
        "import pandas as pd\n",
        "import matplotlib.pyplot as plt\n",
        "import numpy as np\n",
        "import io"
      ],
      "metadata": {
        "id": "StbylWI8sg6b"
      },
      "execution_count": 2,
      "outputs": []
    },
    {
      "cell_type": "code",
      "source": [
        "from google.colab import files\n",
        "files.upload()\n",
        "datac = pd.read_csv('lastmile_delivery_operations_mit_lift_lab_serving_customer.csv')\n",
        "datac"
      ],
      "metadata": {
        "id": "HsnwVhkUiDi7"
      },
      "execution_count": null,
      "outputs": []
    },
    {
      "cell_type": "code",
      "source": [
        "valores_nulos = datac.isnull().sum()\n",
        "valores_nulos"
      ],
      "metadata": {
        "id": "TKuFJWJHinrh"
      },
      "execution_count": null,
      "outputs": []
    },
    {
      "cell_type": "markdown",
      "source": [
        " **Eliminar valores nulos de la base de datos**"
      ],
      "metadata": {
        "id": "kiHP_0aIjjxD"
      }
    },
    {
      "cell_type": "code",
      "source": [
        "#Eliminar valos nulos de la columnas 'picture_cargo_being_delivered', 'picture_cargo_being_delivered_captions' y 'picture_cargo_being_delivered_urls' las cuáles son categóricas\n",
        "#Cuarto método de sustitución de valores nulos visto en clase\n",
        "#Sustituir valores nulos por un string en concreto\n",
        "#Esto se debe a que si sustituimos por algún valor inventado que no sea 'No photo' alteraría la información obtenida\n",
        "datac[\"picture_cargo_being_delivered\"] = datac[\"picture_cargo_being_delivered\"].fillna('No Photo')\n",
        "datac[\"picture_cargo_being_delivered_captions\"] = datac[\"picture_cargo_being_delivered_captions\"].fillna('No Photo')\n",
        "datac[\"picture_cargo_being_delivered_urls\"] = datac[\"picture_cargo_being_delivered_urls\"].fillna('No Photo')"
      ],
      "metadata": {
        "id": "Nh12UVffi-ZF"
      },
      "execution_count": 5,
      "outputs": []
    },
    {
      "cell_type": "code",
      "source": [
        "valores_nulos = datac.isnull().sum()\n",
        "valores_nulos"
      ],
      "metadata": {
        "id": "w5ljBb4YjdxC"
      },
      "execution_count": null,
      "outputs": []
    },
    {
      "cell_type": "markdown",
      "source": [
        "**Identificación y eliminación de outliers**"
      ],
      "metadata": {
        "id": "w9oG2ux3jiwV"
      }
    },
    {
      "cell_type": "code",
      "source": [
        "#Método aplicación Cuartiles, Encuentro cuartiles 0.25 y 0.75\n",
        "yc = datac\n",
        "\n",
        "percentile25 = yc.quantile(0.25) #Q1\n",
        "percentile75 = yc.quantile(0.75) #Q3\n",
        "iqrc = percentile75 - percentile25\n",
        "\n",
        "Limite_Superior_iqrc= percentile75 + 1.5*iqrc\n",
        "Limite_Inferior_iqrc= percentile25 - 1.5*iqrc\n",
        "print('Limite superior permitido', Limite_Superior_iqrc)\n",
        "print('Limite inferior permitido', Limite_Inferior_iqrc)"
      ],
      "metadata": {
        "id": "JJn883R6jzd_"
      },
      "execution_count": null,
      "outputs": []
    },
    {
      "cell_type": "code",
      "source": [
        "outliers_iqrc = datac[(yc>Limite_Superior_iqrc)|(yc<Limite_Inferior_iqrc)]\n",
        "outliers_iqrc"
      ],
      "metadata": {
        "id": "0be2QC_ej_qx"
      },
      "execution_count": null,
      "outputs": []
    },
    {
      "cell_type": "code",
      "source": [
        "data2_iqrc= datac[(yc<=Limite_Superior_iqrc)&(yc>=Limite_Inferior_iqrc)]\n",
        "data2_iqrc.head()"
      ],
      "metadata": {
        "id": "2nffriiikYIn"
      },
      "execution_count": null,
      "outputs": []
    },
    {
      "cell_type": "code",
      "source": [
        "#Eliminamos la columna innecesaria\n",
        "data3_iqrc = data2_iqrc.drop(['_child_record_id','_record_id','_parent_id','_title','_created_at','_updated_at','_created_by','_updated_by','_geometry','_changeset_id','name_of_the_store','entering_the_store','picture_cargo_being_delivered','picture_cargo_being_delivered_captions','picture_cargo_being_delivered_urls','trolley_in_use','leaving_the_store'], axis = 1)\n",
        "data3_iqrc"
      ],
      "metadata": {
        "id": "TkgCPe8GkiBl"
      },
      "execution_count": null,
      "outputs": []
    },
    {
      "cell_type": "code",
      "source": [
        "#Buscamos outliers\n",
        "valores_nulos = data3_iqrc.isnull().sum()\n",
        "valores_nulos"
      ],
      "metadata": {
        "id": "o5LzaQZ8lc03"
      },
      "execution_count": null,
      "outputs": []
    },
    {
      "cell_type": "code",
      "source": [
        "#Reemplazar valores atípicos (nulos) del dataframe con \"mean\"\n",
        "data4_iqrc = data3_iqrc.copy()\n",
        "data4_iqrc = data4_iqrc.fillna(round(data4_iqrc.mean(),1))\n",
        "data4_iqrc"
      ],
      "metadata": {
        "id": "ufDMd3dlljMV"
      },
      "execution_count": null,
      "outputs": []
    },
    {
      "cell_type": "code",
      "source": [
        "#Corroboramos outliers\n",
        "valores_nulos = data4_iqrc.isnull().sum()\n",
        "valores_nulos"
      ],
      "metadata": {
        "id": "9I30bcGeltPL"
      },
      "execution_count": null,
      "outputs": []
    },
    {
      "cell_type": "code",
      "source": [
        "#Unimos las columnas eliminadas con el data frame\n",
        "Nonumericosc=datac[['_child_record_id','_record_id','_parent_id','_title','_created_at','_updated_at','_created_by','_updated_by','_geometry','_changeset_id','name_of_the_store','entering_the_store','picture_cargo_being_delivered','picture_cargo_being_delivered_captions','picture_cargo_being_delivered_urls','trolley_in_use','leaving_the_store']]\n",
        "Datos_limpiosc=pd.concat([Nonumericosc, data4_iqrc], axis=1)\n",
        "Datos_limpiosc"
      ],
      "metadata": {
        "id": "FZb7a0t7lxqZ"
      },
      "execution_count": null,
      "outputs": []
    },
    {
      "cell_type": "code",
      "source": [
        "Datos_limpiosc.to_csv('Datos_limpios_lastmile_delivery_serving_customer_examen.csv')\n",
        "from google.colab import files\n",
        "files.download('Datos_limpios_lastmile_delivery_serving_customer_examen.csv')"
      ],
      "metadata": {
        "colab": {
          "base_uri": "https://localhost:8080/",
          "height": 17
        },
        "id": "yvm4Jmz2mEaj",
        "outputId": "77642f57-4ed7-4a37-f32b-91aa157c77c7"
      },
      "execution_count": null,
      "outputs": [
        {
          "output_type": "display_data",
          "data": {
            "text/plain": [
              "<IPython.core.display.Javascript object>"
            ],
            "application/javascript": [
              "\n",
              "    async function download(id, filename, size) {\n",
              "      if (!google.colab.kernel.accessAllowed) {\n",
              "        return;\n",
              "      }\n",
              "      const div = document.createElement('div');\n",
              "      const label = document.createElement('label');\n",
              "      label.textContent = `Downloading \"${filename}\": `;\n",
              "      div.appendChild(label);\n",
              "      const progress = document.createElement('progress');\n",
              "      progress.max = size;\n",
              "      div.appendChild(progress);\n",
              "      document.body.appendChild(div);\n",
              "\n",
              "      const buffers = [];\n",
              "      let downloaded = 0;\n",
              "\n",
              "      const channel = await google.colab.kernel.comms.open(id);\n",
              "      // Send a message to notify the kernel that we're ready.\n",
              "      channel.send({})\n",
              "\n",
              "      for await (const message of channel.messages) {\n",
              "        // Send a message to notify the kernel that we're ready.\n",
              "        channel.send({})\n",
              "        if (message.buffers) {\n",
              "          for (const buffer of message.buffers) {\n",
              "            buffers.push(buffer);\n",
              "            downloaded += buffer.byteLength;\n",
              "            progress.value = downloaded;\n",
              "          }\n",
              "        }\n",
              "      }\n",
              "      const blob = new Blob(buffers, {type: 'application/binary'});\n",
              "      const a = document.createElement('a');\n",
              "      a.href = window.URL.createObjectURL(blob);\n",
              "      a.download = filename;\n",
              "      div.appendChild(a);\n",
              "      a.click();\n",
              "      div.remove();\n",
              "    }\n",
              "  "
            ]
          },
          "metadata": {}
        },
        {
          "output_type": "display_data",
          "data": {
            "text/plain": [
              "<IPython.core.display.Javascript object>"
            ],
            "application/javascript": [
              "download(\"download_494ef3ed-ed32-477b-981d-81300e0a877d\", \"Datos_limpios_lastmile_delivery_serving_customer_examen.csv\", 22711)"
            ]
          },
          "metadata": {}
        }
      ]
    }
  ]
}