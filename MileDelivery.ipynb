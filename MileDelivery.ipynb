{
  "nbformat": 4,
  "nbformat_minor": 0,
  "metadata": {
    "colab": {
      "provenance": [],
      "authorship_tag": "ABX9TyNwdO0xmJG2wt41g5/XmA6M",
      "include_colab_link": true
    },
    "kernelspec": {
      "name": "python3",
      "display_name": "Python 3"
    },
    "language_info": {
      "name": "python"
    }
  },
  "cells": [
    {
      "cell_type": "markdown",
      "metadata": {
        "id": "view-in-github",
        "colab_type": "text"
      },
      "source": [
        "<a href=\"https://colab.research.google.com/github/AlbertoOstorga/Examen1/blob/main/MileDelivery.ipynb\" target=\"_parent\"><img src=\"https://colab.research.google.com/assets/colab-badge.svg\" alt=\"Open In Colab\"/></a>"
      ]
    },
    {
      "cell_type": "markdown",
      "source": [
        "## **Last Mile Delivery**"
      ],
      "metadata": {
        "id": "Rj7OJ8SdY4_X"
      }
    },
    {
      "cell_type": "code",
      "source": [
        "from google.colab import files\n",
        "files.upload()\n",
        "datam = pd.read_csv('lastmile_delivery_operations_mit_lift_lab.csv')\n",
        "datam"
      ],
      "metadata": {
        "id": "If0Q3VQEZAx6"
      },
      "execution_count": null,
      "outputs": []
    },
    {
      "cell_type": "code",
      "source": [
        "valores_nulos = datam.isnull().sum()\n",
        "valores_nulos"
      ],
      "metadata": {
        "colab": {
          "base_uri": "https://localhost:8080/"
        },
        "id": "VrUs71_nZx1C",
        "outputId": "3530906f-3e2e-4424-e981-dd3977435d34"
      },
      "execution_count": 72,
      "outputs": [
        {
          "output_type": "execute_result",
          "data": {
            "text/plain": [
              "_record_id                                         0\n",
              "_title                                             6\n",
              "_server_updated_at                                 0\n",
              "_updated_by                                        0\n",
              "_geometry                                          0\n",
              "_latitude                                          0\n",
              "_longitude                                         0\n",
              "arrival_of_the_freight_vehicle                     0\n",
              "plates                                             1\n",
              "company_if_visible                                73\n",
              "visit_purpose                                      0\n",
              "type_of_vehicle                                    0\n",
              "number_of_operators                                0\n",
              "refrigerated_truck                                 0\n",
              "type_of_cargo                                      0\n",
              "picture_of_the_parked_freight_vehicle              0\n",
              "departure_of_the_freight_vehicle                   0\n",
              "where_was_the_vehicle_parked                       0\n",
              "while_parked_was_the_engine_running                0\n",
              "used_traffic_cone                                  0\n",
              "vehicles_unloading_door                            0\n",
              "number_of_available_trolleys                       0\n",
              "serving_customer                                 147\n",
              "garage_blocking                                    0\n",
              "accident                                           0\n",
              "describe_the_accident                            182\n",
              "noise                                              0\n",
              "traffic_congestion                                 0\n",
              "maximum_number_of_vehicles_in_the_traffic_jam    180\n",
              "dtype: int64"
            ]
          },
          "metadata": {},
          "execution_count": 72
        }
      ]
    },
    {
      "cell_type": "markdown",
      "source": [
        " **Eliminar valores nulos de la base de datos**"
      ],
      "metadata": {
        "id": "i_zDaTsIZxYx"
      }
    },
    {
      "cell_type": "code",
      "source": [
        "#Eliminar valos nulos de la columna '_title' el cuál es categórico\n",
        "#Cuarto método de sustitución de valores nulos visto en clase\n",
        "#Sustituir valores nulos por un string en concreto\n",
        "#Esto se debe a que si sustituimos por algún valor inventado que no sea 'Sin calle' alteraría la información obtenida\n",
        "datam[\"_title\"] = datam[\"_title\"].fillna(\"Sin calle\")"
      ],
      "metadata": {
        "id": "T-ZjHQ71aRZi"
      },
      "execution_count": 96,
      "outputs": []
    },
    {
      "cell_type": "code",
      "source": [
        "valores_nulos = datam.isnull().sum()\n",
        "valores_nulos"
      ],
      "metadata": {
        "id": "VVAMcXe_adSA"
      },
      "execution_count": null,
      "outputs": []
    },
    {
      "cell_type": "code",
      "source": [
        "#Eliminar valos nulos de la columna 'plates' el cuál es categórico\n",
        "#Cuarto método de sustitución de valores nulos visto en clase\n",
        "#Sustituir valores nulos por un string en concreto\n",
        "#Esto se debe a que si sustituimos por algún valor inventado que no sea 'Sin placas' alteraría la información obtenida\n",
        "datam[\"plates\"] = datam[\"plates\"].fillna(\"Sin placas\")"
      ],
      "metadata": {
        "id": "wz0is5daauxC"
      },
      "execution_count": 99,
      "outputs": []
    },
    {
      "cell_type": "code",
      "source": [
        "valores_nulos = datam.isnull().sum()\n",
        "valores_nulos"
      ],
      "metadata": {
        "id": "45XpIUJmbhCz"
      },
      "execution_count": null,
      "outputs": []
    },
    {
      "cell_type": "code",
      "source": [
        "#Eliminar valos nulos de la columna 'company_if_visible' el cuál es categórico\n",
        "#Cuarto método de sustitución de valores nulos visto en clase\n",
        "#Sustituir valores nulos por un string en concreto\n",
        "#Esto se debe a que si sustituimos por algún valor inventado que no sea 'Sin compañía' alteraría la información obtenida\n",
        "datam[\"company_if_visible\"] = datam[\"company_if_visible\"].fillna(\"Sin compañía\")"
      ],
      "metadata": {
        "id": "09wFPbEibjwR"
      },
      "execution_count": 101,
      "outputs": []
    },
    {
      "cell_type": "code",
      "source": [
        "valores_nulos = datam.isnull().sum()\n",
        "valores_nulos"
      ],
      "metadata": {
        "id": "fMWGigiQbr3d"
      },
      "execution_count": null,
      "outputs": []
    },
    {
      "cell_type": "code",
      "source": [
        "#Eliminar valos nulos de la columna 'serving_customer' el cuál es categórico\n",
        "#Cuarto método de sustitución de valores nulos visto en clase\n",
        "#Sustituir valores nulos por un string en concreto\n",
        "#Esto se debe a que si sustituimos por algún valor inventado que no sea '0' alteraría la información obtenida\n",
        "datam[\"serving_customer\"] = datam[\"serving_customer\"].fillna(0)"
      ],
      "metadata": {
        "id": "opzBwDurcFWR"
      },
      "execution_count": 103,
      "outputs": []
    },
    {
      "cell_type": "code",
      "source": [
        "valores_nulos = datam.isnull().sum()\n",
        "valores_nulos"
      ],
      "metadata": {
        "id": "uc6ULF9GcRgX"
      },
      "execution_count": null,
      "outputs": []
    },
    {
      "cell_type": "code",
      "source": [
        "#Eliminar valos nulos de la columna 'describe_the_accident' el cuál es categórico\n",
        "#Cuarto método de sustitución de valores nulos visto en clase\n",
        "#Sustituir valores nulos por un string en concreto\n",
        "#Esto se debe a que si sustituimos por algún valor inventado que no sea 'Sin accidente' alteraría la información obtenida\n",
        "datam[\"describe_the_accident\"] = datam[\"describe_the_accident\"].fillna(\"Sin accidente\")"
      ],
      "metadata": {
        "id": "v0tjelLrcUjj"
      },
      "execution_count": 105,
      "outputs": []
    },
    {
      "cell_type": "code",
      "source": [
        "valores_nulos = datam.isnull().sum()\n",
        "valores_nulos"
      ],
      "metadata": {
        "id": "hFDB2trRceki"
      },
      "execution_count": null,
      "outputs": []
    },
    {
      "cell_type": "code",
      "source": [
        "#Eliminar valos nulos de la columna 'maximum_number_of_vehicles_in_the_traffic_jam' el cuál es categórico\n",
        "#Cuarto método de sustitución de valores nulos visto en clase\n",
        "#Sustituir valores nulos por un string en concreto\n",
        "#Esto se debe a que si sustituimos por algún valor inventado que no sea '0' alteraría la información obtenida\n",
        "datam[\"maximum_number_of_vehicles_in_the_traffic_jam\"] = datam[\"maximum_number_of_vehicles_in_the_traffic_jam\"].fillna(0)"
      ],
      "metadata": {
        "id": "qcPL-ioicgbR"
      },
      "execution_count": 107,
      "outputs": []
    },
    {
      "cell_type": "code",
      "source": [
        "valores_nulos = datam.isnull().sum()\n",
        "valores_nulos"
      ],
      "metadata": {
        "id": "SbZPSq2qcmNw"
      },
      "execution_count": null,
      "outputs": []
    },
    {
      "cell_type": "markdown",
      "source": [
        "**Identificación y eliminación de outliers**"
      ],
      "metadata": {
        "id": "9pZ5q1i2cnnV"
      }
    },
    {
      "cell_type": "code",
      "source": [
        "#Método aplicación Cuartiles, Encuentro cuartiles 0.25 y 0.75\n",
        "ym = datam\n",
        "\n",
        "percentile25 = ym.quantile(0.25) #Q1\n",
        "percentile75 = ym.quantile(0.75) #Q3\n",
        "iqrm = percentile75 - percentile25\n",
        "\n",
        "Limite_Superior_iqrm= percentile75 + 1.5*iqrm\n",
        "Limite_Inferior_iqrm= percentile25 - 1.5*iqrm\n",
        "print('Limite superior permitido', Limite_Superior_iqrm)\n",
        "print('Limite inferior permitido', Limite_Inferior_iqrm)"
      ],
      "metadata": {
        "colab": {
          "base_uri": "https://localhost:8080/"
        },
        "id": "6WxK3UyLcsn8",
        "outputId": "35f83b70-e2dd-4fa7-a680-e3c35fa7ed60"
      },
      "execution_count": 138,
      "outputs": [
        {
          "output_type": "stream",
          "name": "stdout",
          "text": [
            "Limite superior permitido _latitude                       19.123517\n",
            "_longitude                     -98.098434\n",
            "number_of_operators              3.500000\n",
            "number_of_available_trolleys     2.500000\n",
            "dtype: float64\n",
            "Limite inferior permitido _latitude                       18.961271\n",
            "_longitude                     -98.366619\n",
            "number_of_operators             -0.500000\n",
            "number_of_available_trolleys    -1.500000\n",
            "dtype: float64\n"
          ]
        }
      ]
    },
    {
      "cell_type": "code",
      "source": [
        "outliers_iqrm = datam[(ym>Limite_Superior_iqrm)|(ym<Limite_Inferior_iqrm)]\n",
        "outliers_iqrm"
      ],
      "metadata": {
        "id": "WPHnEmNQdubI"
      },
      "execution_count": null,
      "outputs": []
    },
    {
      "cell_type": "code",
      "source": [
        "data2_iqrm= datam[(ym<=Limite_Superior_iqrm)&(ym>=Limite_Inferior_iqrm)]\n",
        "data2_iqrm"
      ],
      "metadata": {
        "id": "RddPrseceEh3"
      },
      "execution_count": null,
      "outputs": []
    },
    {
      "cell_type": "code",
      "source": [
        "#Eliminamos la columna innecesaria\n",
        "data3_iqrm = data2_iqrm.drop(['_record_id','_title','_server_updated_at','_updated_by','_geometry','arrival_of_the_freight_vehicle','plates','company_if_visible','visit_purpose','type_of_vehicle','refrigerated_truck','type_of_cargo','picture_of_the_parked_freight_vehicle','departure_of_the_freight_vehicle','where_was_the_vehicle_parked','while_parked_was_the_engine_running','used_traffic_cone','vehicles_unloading_door','serving_customer','garage_blocking','accident','describe_the_accident','noise','traffic_congestion','maximum_number_of_vehicles_in_the_traffic_jam'], axis = 1)\n",
        "data3_iqrm"
      ],
      "metadata": {
        "id": "alXqF23bePR3"
      },
      "execution_count": null,
      "outputs": []
    },
    {
      "cell_type": "code",
      "source": [
        "#Buscamos outliers\n",
        "valores_nulos = data3_iqrm.isnull().sum()\n",
        "valores_nulos"
      ],
      "metadata": {
        "id": "jl35oOLTgJpx"
      },
      "execution_count": null,
      "outputs": []
    },
    {
      "cell_type": "code",
      "source": [
        "#Reemplazar valores atípicos (nulos) del dataframe con \"mean\"\n",
        "data4_iqrm = data3_iqrm.copy()\n",
        "data4_iqrm = data4_iqrm.fillna(round(data4_iqrm.mean(),1))\n",
        "data4_iqrm"
      ],
      "metadata": {
        "id": "oLc8f-DvfZZh"
      },
      "execution_count": null,
      "outputs": []
    },
    {
      "cell_type": "code",
      "source": [
        "#Corroboramos outliers\n",
        "valores_nulos = data4_iqrm.isnull().sum()\n",
        "valores_nulos"
      ],
      "metadata": {
        "id": "dtbCvcZcgRzb"
      },
      "execution_count": null,
      "outputs": []
    },
    {
      "cell_type": "code",
      "source": [
        "#Unimos la columna 'indice_tiempo' con el data frame\n",
        "Nonumericosm=datam[['_record_id','_title','_server_updated_at','_updated_by','_geometry','arrival_of_the_freight_vehicle','plates','company_if_visible','visit_purpose','type_of_vehicle','refrigerated_truck','type_of_cargo','picture_of_the_parked_freight_vehicle','departure_of_the_freight_vehicle','where_was_the_vehicle_parked','while_parked_was_the_engine_running','used_traffic_cone','vehicles_unloading_door','serving_customer','garage_blocking','accident','describe_the_accident','noise','traffic_congestion','maximum_number_of_vehicles_in_the_traffic_jam']]\n",
        "Datos_limpiosm=pd.concat([Nonumericosm, data4_iqrm], axis=1)\n",
        "Datos_limpiosm"
      ],
      "metadata": {
        "id": "tYL2WHlBgcVK"
      },
      "execution_count": null,
      "outputs": []
    },
    {
      "cell_type": "code",
      "source": [
        "Datos_limpiosm.to_csv('Datos_limpios_lastmile_delivery_examen.csv')\n",
        "from google.colab import files\n",
        "files.download('Datos_limpios_lastmile_delivery_examen.csv')"
      ],
      "metadata": {
        "id": "TTamYCiug_K0"
      },
      "execution_count": null,
      "outputs": []
    }
  ]
}