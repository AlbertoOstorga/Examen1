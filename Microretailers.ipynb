{
  "nbformat": 4,
  "nbformat_minor": 0,
  "metadata": {
    "colab": {
      "provenance": [],
      "authorship_tag": "ABX9TyPyQaBqWjgEZl2IE7K4fgmu",
      "include_colab_link": true
    },
    "kernelspec": {
      "name": "python3",
      "display_name": "Python 3"
    },
    "language_info": {
      "name": "python"
    }
  },
  "cells": [
    {
      "cell_type": "markdown",
      "metadata": {
        "id": "view-in-github",
        "colab_type": "text"
      },
      "source": [
        "<a href=\"https://colab.research.google.com/github/AlbertoOstorga/Examen1/blob/main/Microretailers.ipynb\" target=\"_parent\"><img src=\"https://colab.research.google.com/assets/colab-badge.svg\" alt=\"Open In Colab\"/></a>"
      ]
    },
    {
      "cell_type": "code",
      "execution_count": 21,
      "metadata": {
        "id": "Mol7VbPDBheI"
      },
      "outputs": [],
      "source": [
        "import numpy as pd\n",
        "import matplotlib.pyplot as plt\n",
        "import pandas as pd"
      ]
    },
    {
      "cell_type": "code",
      "source": [
        "from google.colab import files\n",
        "files.upload()\n",
        "data = pd.read_excel('microretailer_mit_lift_lab_2.xlsx')\n",
        "data"
      ],
      "metadata": {
        "id": "4kvlzyFZBra_"
      },
      "execution_count": null,
      "outputs": []
    },
    {
      "cell_type": "markdown",
      "source": [
        "**Separar variables numéricas**"
      ],
      "metadata": {
        "id": "y5Vp-wT3kyg6"
      }
    },
    {
      "cell_type": "code",
      "source": [
        "#Filtro por columnas no consecutivas\n",
        "filtro=data.iloc[:,[13,14,16,21,22,29,31,33,41,42,43,44,45,49,51,56,57,58,59,60,78,90]] #Columnas no consecutivas\n",
        "filtro"
      ],
      "metadata": {
        "id": "y8DoQZrZBrXv"
      },
      "execution_count": null,
      "outputs": []
    },
    {
      "cell_type": "code",
      "source": [
        "filtro2=data.iloc[:,[0,1,2,3,4,5,6,7,8,9,10,11,12,15,17,18,19,20,23,24,25,26,27,28,30,32,34,35,36,37,38,39,40,46,47,48,50,52,53,54,55,61,62,63,64,65,66,67,68,69,70,71,72,73,74,75,76,77,79,80,81,82,83,84,85,86,87,88,89,91,92,93,94,95,96,97,98,99,100,101,102,103,104,105]]\n",
        "filtro2"
      ],
      "metadata": {
        "id": "vMS7szmW6xEa"
      },
      "execution_count": null,
      "outputs": []
    },
    {
      "cell_type": "markdown",
      "source": [
        "**Limpiar variables categóricas**"
      ],
      "metadata": {
        "id": "RAg73i1Ck1pC"
      }
    },
    {
      "cell_type": "code",
      "source": [
        "#Limpiamos valores nulos categóricos con ffill\n",
        "data=filtro2.fillna(method=\"bfill\")"
      ],
      "metadata": {
        "id": "xjn3Xryqip9A"
      },
      "execution_count": 25,
      "outputs": []
    },
    {
      "cell_type": "code",
      "source": [
        "#Limpiamos valores nulos restantes categórcios con bfill\n",
        "data=data.fillna(method=\"ffill\")"
      ],
      "metadata": {
        "id": "P5gu0vJ2jJka"
      },
      "execution_count": 26,
      "outputs": []
    },
    {
      "cell_type": "code",
      "source": [
        "#Llenamos valores nulos restantes con un string\n",
        "data=data.fillna('Dato no proporcionado')"
      ],
      "metadata": {
        "id": "7PqVak1Sjcpo"
      },
      "execution_count": 27,
      "outputs": []
    },
    {
      "cell_type": "code",
      "source": [
        "valores_nulos=data.isnull().sum().sum()\n",
        "valores_nulos"
      ],
      "metadata": {
        "id": "gvOtV9zqjP-A",
        "colab": {
          "base_uri": "https://localhost:8080/"
        },
        "outputId": "e19169d7-a18d-44f8-d9c2-c400e0f415eb"
      },
      "execution_count": 28,
      "outputs": [
        {
          "output_type": "execute_result",
          "data": {
            "text/plain": [
              "0"
            ]
          },
          "metadata": {},
          "execution_count": 28
        }
      ]
    },
    {
      "cell_type": "code",
      "source": [
        "#Buscamos valores nulos\n",
        "valores_nulos = filtro.isnull().sum()\n",
        "valores_nulos"
      ],
      "metadata": {
        "id": "8w4eTnZDBrGm"
      },
      "execution_count": null,
      "outputs": []
    },
    {
      "cell_type": "code",
      "source": [
        "#Eliminar valos nulos de la columnas con números ya que son variables numéricas\n",
        "#Cuarto método de sustitución de valores nulos visto en clase\n",
        "#Sustituir valores nulos por un string en concreto\n",
        "#Bajo el contexto de las preguntas que estamos trantando, rellenar los espacios vacíos con ceros es la mejor forma de llenar los valores nulos\n",
        "filtro=filtro.fillna(0)"
      ],
      "metadata": {
        "id": "S8lcOdPLKI2n"
      },
      "execution_count": 30,
      "outputs": []
    },
    {
      "cell_type": "code",
      "source": [
        "#Buscamos valores nulos\n",
        "valores_nulos = filtro.isnull().sum()\n",
        "valores_nulos"
      ],
      "metadata": {
        "id": "1yUrTqihMqpG"
      },
      "execution_count": null,
      "outputs": []
    },
    {
      "cell_type": "markdown",
      "source": [
        "**Identificamos y eliminamos los outliers**"
      ],
      "metadata": {
        "id": "hT_MXgilNDhw"
      }
    },
    {
      "cell_type": "code",
      "source": [
        "#Método aplicación Cuartiles, Encuentro cuartiles 0.25 y 0.75\n",
        "y = filtro\n",
        "\n",
        "percentile25 = y.quantile(0.25) #Q1\n",
        "percentile75 = y.quantile(0.75) #Q3\n",
        "iqr = percentile75 - percentile25\n",
        "\n",
        "Limite_Superior_iqr= percentile75 + 1.5*iqr\n",
        "Limite_Inferior_iqr= percentile25 - 1.5*iqr\n",
        "print('Limite superior permitido', Limite_Superior_iqr)\n",
        "print('Limite inferior permitido', Limite_Inferior_iqr)"
      ],
      "metadata": {
        "id": "WWcCGkwTNDEg"
      },
      "execution_count": null,
      "outputs": []
    },
    {
      "cell_type": "code",
      "source": [
        "outliers_iqr = filtro[(y>Limite_Superior_iqr)|(y<Limite_Inferior_iqr)]\n",
        "outliers_iqr"
      ],
      "metadata": {
        "id": "aApJjnc1Nxqa"
      },
      "execution_count": null,
      "outputs": []
    },
    {
      "cell_type": "code",
      "source": [
        "data2_iqr= filtro[(y<=Limite_Superior_iqr)&(y>=Limite_Inferior_iqr)]\n",
        "data2_iqr"
      ],
      "metadata": {
        "id": "Q9NyFzv7N53n"
      },
      "execution_count": null,
      "outputs": []
    },
    {
      "cell_type": "code",
      "source": [
        "#Comprobamos outliers\n",
        "valores_nulos=data2_iqr.isnull().sum()\n",
        "valores_nulos"
      ],
      "metadata": {
        "id": "76Deu5uSOWMu"
      },
      "execution_count": null,
      "outputs": []
    },
    {
      "cell_type": "code",
      "source": [
        "#Reemplazar valores atípicos (nulos) del dataframe con \"mean\"\n",
        "data3_iqr = data2_iqr.copy()\n",
        "data3_iqr = data2_iqr.fillna(round(data3_iqr.mean(),1))\n",
        "data3_iqr"
      ],
      "metadata": {
        "id": "wVVy-x8iOLyg"
      },
      "execution_count": null,
      "outputs": []
    },
    {
      "cell_type": "code",
      "source": [
        "#Comprobamos outliers\n",
        "valores_nulos=data3_iqr.isnull().sum()\n",
        "valores_nulos"
      ],
      "metadata": {
        "id": "Lhd7UQpROZkU"
      },
      "execution_count": null,
      "outputs": []
    },
    {
      "cell_type": "markdown",
      "source": [
        "**Concatenamos ambos datos**"
      ],
      "metadata": {
        "id": "1ohB3ccjlAFW"
      }
    },
    {
      "cell_type": "code",
      "source": [
        "#Concatenamos\n",
        "Datos_limpios=pd.concat([data3_iqr, data], axis=1)\n",
        "Datos_limpios"
      ],
      "metadata": {
        "id": "B4mM7qJLjqCf"
      },
      "execution_count": null,
      "outputs": []
    },
    {
      "cell_type": "markdown",
      "source": [
        "**Descargamos archivos**"
      ],
      "metadata": {
        "id": "hXfiwh8AlCfm"
      }
    },
    {
      "cell_type": "code",
      "source": [
        "Datos_limpios.to_csv('Datos_limpios_microretailers_examen.csv')\n",
        "from google.colab import files\n",
        "files.download('Datos_limpios_microretailers_examen.csv')"
      ],
      "metadata": {
        "colab": {
          "base_uri": "https://localhost:8080/",
          "height": 17
        },
        "id": "ldFLgNv9PWa4",
        "outputId": "2c9eb328-faaf-4aa5-c1ef-b19b1f8bac32"
      },
      "execution_count": 39,
      "outputs": [
        {
          "output_type": "display_data",
          "data": {
            "text/plain": [
              "<IPython.core.display.Javascript object>"
            ],
            "application/javascript": [
              "\n",
              "    async function download(id, filename, size) {\n",
              "      if (!google.colab.kernel.accessAllowed) {\n",
              "        return;\n",
              "      }\n",
              "      const div = document.createElement('div');\n",
              "      const label = document.createElement('label');\n",
              "      label.textContent = `Downloading \"${filename}\": `;\n",
              "      div.appendChild(label);\n",
              "      const progress = document.createElement('progress');\n",
              "      progress.max = size;\n",
              "      div.appendChild(progress);\n",
              "      document.body.appendChild(div);\n",
              "\n",
              "      const buffers = [];\n",
              "      let downloaded = 0;\n",
              "\n",
              "      const channel = await google.colab.kernel.comms.open(id);\n",
              "      // Send a message to notify the kernel that we're ready.\n",
              "      channel.send({})\n",
              "\n",
              "      for await (const message of channel.messages) {\n",
              "        // Send a message to notify the kernel that we're ready.\n",
              "        channel.send({})\n",
              "        if (message.buffers) {\n",
              "          for (const buffer of message.buffers) {\n",
              "            buffers.push(buffer);\n",
              "            downloaded += buffer.byteLength;\n",
              "            progress.value = downloaded;\n",
              "          }\n",
              "        }\n",
              "      }\n",
              "      const blob = new Blob(buffers, {type: 'application/binary'});\n",
              "      const a = document.createElement('a');\n",
              "      a.href = window.URL.createObjectURL(blob);\n",
              "      a.download = filename;\n",
              "      div.appendChild(a);\n",
              "      a.click();\n",
              "      div.remove();\n",
              "    }\n",
              "  "
            ]
          },
          "metadata": {}
        },
        {
          "output_type": "display_data",
          "data": {
            "text/plain": [
              "<IPython.core.display.Javascript object>"
            ],
            "application/javascript": [
              "download(\"download_f6928dbc-47e6-41d5-b433-db84029299d5\", \"Datos_limpios_microretailers_examen.csv\", 267061)"
            ]
          },
          "metadata": {}
        }
      ]
    }
  ]
}